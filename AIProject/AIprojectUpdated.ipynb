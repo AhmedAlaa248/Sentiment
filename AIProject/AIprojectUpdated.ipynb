{
  "cells": [
    {
      "cell_type": "markdown",
      "metadata": {
        "id": "_E5I38CDb9EY"
      },
      "source": [
        "#Importing modules"
      ]
    },
    {
      "cell_type": "code",
      "execution_count": 135,
      "metadata": {
        "id": "ZRE7kCk-TZPq"
      },
      "outputs": [],
      "source": [
        "import pandas as pd\n",
        "import numpy as np\n",
        "import matplotlib.pyplot as plt\n",
        "import seaborn as sns # for data visualization\n",
        "import re\n",
        "import nltk #for natural language processing\n",
        "import string\n",
        "from sklearn.svm import SVC\n",
        "from sklearn.linear_model import LogisticRegression\n",
        "from sklearn.model_selection import train_test_split\n",
        "from sklearn.preprocessing import LabelEncoder\n",
        "from sklearn.metrics import accuracy_score\n",
        "from sklearn.feature_extraction.text import CountVectorizer\n",
        "from sklearn.metrics import confusion_matrix\n",
        "from sklearn.metrics import precision_score, recall_score, f1_score, classification_report"
      ]
    },
    {
      "cell_type": "markdown",
      "metadata": {
        "id": "hCpQmQsNcEAh"
      },
      "source": [
        "#reading dataset"
      ]
    },
    {
      "cell_type": "code",
      "execution_count": 136,
      "metadata": {
        "id": "WNlZBbE8TkFZ"
      },
      "outputs": [],
      "source": [
        "dataset=pd.read_csv(\"sentimentdataset.csv\")"
      ]
    },
    {
      "cell_type": "markdown",
      "metadata": {
        "id": "9_gdcHBjcKqg"
      },
      "source": [
        "#data overviewing and exploration"
      ]
    },
    {
      "cell_type": "code",
      "execution_count": 137,
      "metadata": {
        "colab": {
          "base_uri": "https://localhost:8080/",
          "height": 327
        },
        "id": "Wa5tf8QXTvx1",
        "outputId": "f6d21f1c-a4e9-4fc9-fa07-93953d063b03"
      },
      "outputs": [
        {
          "data": {
            "text/html": [
              "<div>\n",
              "<style scoped>\n",
              "    .dataframe tbody tr th:only-of-type {\n",
              "        vertical-align: middle;\n",
              "    }\n",
              "\n",
              "    .dataframe tbody tr th {\n",
              "        vertical-align: top;\n",
              "    }\n",
              "\n",
              "    .dataframe thead th {\n",
              "        text-align: right;\n",
              "    }\n",
              "</style>\n",
              "<table border=\"1\" class=\"dataframe\">\n",
              "  <thead>\n",
              "    <tr style=\"text-align: right;\">\n",
              "      <th></th>\n",
              "      <th>ID</th>\n",
              "      <th>Text</th>\n",
              "      <th>Sentiment (Label)</th>\n",
              "      <th>Timestamp</th>\n",
              "      <th>User</th>\n",
              "      <th>Source</th>\n",
              "      <th>Topic</th>\n",
              "      <th>Retweets</th>\n",
              "      <th>Likes</th>\n",
              "      <th>Country</th>\n",
              "      <th>Year</th>\n",
              "      <th>Month</th>\n",
              "      <th>Day</th>\n",
              "      <th>Hour</th>\n",
              "    </tr>\n",
              "  </thead>\n",
              "  <tbody>\n",
              "    <tr>\n",
              "      <th>0</th>\n",
              "      <td>0</td>\n",
              "      <td>Enjoying a beautiful day at the park!        ...</td>\n",
              "      <td>Positive</td>\n",
              "      <td>1/15/2023 12:30</td>\n",
              "      <td>User123</td>\n",
              "      <td>Twitter</td>\n",
              "      <td>#Nature #Park</td>\n",
              "      <td>15</td>\n",
              "      <td>30</td>\n",
              "      <td>USA</td>\n",
              "      <td>2023</td>\n",
              "      <td>1</td>\n",
              "      <td>15</td>\n",
              "      <td>12</td>\n",
              "    </tr>\n",
              "    <tr>\n",
              "      <th>1</th>\n",
              "      <td>1</td>\n",
              "      <td>Traffic was terrible this morning.           ...</td>\n",
              "      <td>Negative</td>\n",
              "      <td>1/15/2023 8:45</td>\n",
              "      <td>CommuterX</td>\n",
              "      <td>Twitter</td>\n",
              "      <td>#Traffic #Morning</td>\n",
              "      <td>5</td>\n",
              "      <td>10</td>\n",
              "      <td>Canada</td>\n",
              "      <td>2023</td>\n",
              "      <td>1</td>\n",
              "      <td>15</td>\n",
              "      <td>8</td>\n",
              "    </tr>\n",
              "    <tr>\n",
              "      <th>2</th>\n",
              "      <td>2</td>\n",
              "      <td>Just finished an amazing workout! 💪          ...</td>\n",
              "      <td>Positive</td>\n",
              "      <td>1/15/2023 15:45</td>\n",
              "      <td>FitnessFan</td>\n",
              "      <td>Instagram</td>\n",
              "      <td>#Fitness #Workout</td>\n",
              "      <td>20</td>\n",
              "      <td>40</td>\n",
              "      <td>USA</td>\n",
              "      <td>2023</td>\n",
              "      <td>1</td>\n",
              "      <td>15</td>\n",
              "      <td>15</td>\n",
              "    </tr>\n",
              "    <tr>\n",
              "      <th>3</th>\n",
              "      <td>3</td>\n",
              "      <td>Excited about the upcoming weekend getaway!  ...</td>\n",
              "      <td>Positive</td>\n",
              "      <td>1/15/2023 18:20</td>\n",
              "      <td>AdventureX</td>\n",
              "      <td>Facebook</td>\n",
              "      <td>#Travel #Adventure</td>\n",
              "      <td>8</td>\n",
              "      <td>15</td>\n",
              "      <td>UK</td>\n",
              "      <td>2023</td>\n",
              "      <td>1</td>\n",
              "      <td>15</td>\n",
              "      <td>18</td>\n",
              "    </tr>\n",
              "    <tr>\n",
              "      <th>4</th>\n",
              "      <td>4</td>\n",
              "      <td>Trying out a new recipe for dinner tonight.  ...</td>\n",
              "      <td>Neutral</td>\n",
              "      <td>1/15/2023 19:55</td>\n",
              "      <td>ChefCook</td>\n",
              "      <td>Instagram</td>\n",
              "      <td>#Cooking #Food</td>\n",
              "      <td>12</td>\n",
              "      <td>25</td>\n",
              "      <td>Australia</td>\n",
              "      <td>2023</td>\n",
              "      <td>1</td>\n",
              "      <td>15</td>\n",
              "      <td>19</td>\n",
              "    </tr>\n",
              "  </tbody>\n",
              "</table>\n",
              "</div>"
            ],
            "text/plain": [
              "   ID                                               Text Sentiment (Label)  \\\n",
              "0   0   Enjoying a beautiful day at the park!        ...        Positive     \n",
              "1   1   Traffic was terrible this morning.           ...        Negative     \n",
              "2   2   Just finished an amazing workout! 💪          ...        Positive     \n",
              "3   3   Excited about the upcoming weekend getaway!  ...        Positive     \n",
              "4   4   Trying out a new recipe for dinner tonight.  ...        Neutral      \n",
              "\n",
              "         Timestamp            User       Source  \\\n",
              "0  1/15/2023 12:30   User123          Twitter     \n",
              "1   1/15/2023 8:45   CommuterX        Twitter     \n",
              "2  1/15/2023 15:45   FitnessFan      Instagram    \n",
              "3  1/15/2023 18:20   AdventureX       Facebook    \n",
              "4  1/15/2023 19:55   ChefCook        Instagram    \n",
              "\n",
              "                                        Topic  Retweets  Likes       Country  \\\n",
              "0   #Nature #Park                                    15     30     USA         \n",
              "1   #Traffic #Morning                                 5     10     Canada      \n",
              "2   #Fitness #Workout                                20     40   USA           \n",
              "3   #Travel #Adventure                                8     15     UK          \n",
              "4   #Cooking #Food                                   12     25    Australia    \n",
              "\n",
              "   Year  Month  Day  Hour  \n",
              "0  2023      1   15    12  \n",
              "1  2023      1   15     8  \n",
              "2  2023      1   15    15  \n",
              "3  2023      1   15    18  \n",
              "4  2023      1   15    19  "
            ]
          },
          "execution_count": 137,
          "metadata": {},
          "output_type": "execute_result"
        }
      ],
      "source": [
        "dataset.head() #display first few rows"
      ]
    },
    {
      "cell_type": "code",
      "execution_count": 138,
      "metadata": {
        "colab": {
          "base_uri": "https://localhost:8080/",
          "height": 1000
        },
        "id": "NKmDHN5LVwvS",
        "outputId": "2d531a25-3c9c-4bcd-c72a-82cb7ca711ea"
      },
      "outputs": [
        {
          "data": {
            "text/html": [
              "<div>\n",
              "<style scoped>\n",
              "    .dataframe tbody tr th:only-of-type {\n",
              "        vertical-align: middle;\n",
              "    }\n",
              "\n",
              "    .dataframe tbody tr th {\n",
              "        vertical-align: top;\n",
              "    }\n",
              "\n",
              "    .dataframe thead th {\n",
              "        text-align: right;\n",
              "    }\n",
              "</style>\n",
              "<table border=\"1\" class=\"dataframe\">\n",
              "  <thead>\n",
              "    <tr style=\"text-align: right;\">\n",
              "      <th></th>\n",
              "      <th>ID</th>\n",
              "      <th>Text</th>\n",
              "      <th>Sentiment (Label)</th>\n",
              "      <th>Timestamp</th>\n",
              "      <th>User</th>\n",
              "      <th>Source</th>\n",
              "      <th>Topic</th>\n",
              "      <th>Retweets</th>\n",
              "      <th>Likes</th>\n",
              "      <th>Country</th>\n",
              "      <th>Year</th>\n",
              "      <th>Month</th>\n",
              "      <th>Day</th>\n",
              "      <th>Hour</th>\n",
              "    </tr>\n",
              "  </thead>\n",
              "  <tbody>\n",
              "    <tr>\n",
              "      <th>150</th>\n",
              "      <td>153</td>\n",
              "      <td>The euphoria of a successful product launch. ...</td>\n",
              "      <td>Euphoria</td>\n",
              "      <td>4/3/2022 11:45</td>\n",
              "      <td>ProductLaunchJoy</td>\n",
              "      <td>Facebook</td>\n",
              "      <td>#Euphoria #ProductLaunchSuccess</td>\n",
              "      <td>15</td>\n",
              "      <td>30</td>\n",
              "      <td>USA</td>\n",
              "      <td>2022</td>\n",
              "      <td>4</td>\n",
              "      <td>3</td>\n",
              "      <td>11</td>\n",
              "    </tr>\n",
              "    <tr>\n",
              "      <th>226</th>\n",
              "      <td>231</td>\n",
              "      <td>Indifferent to the noise of the world, a sile...</td>\n",
              "      <td>Indifference</td>\n",
              "      <td>3/10/2023 16:30</td>\n",
              "      <td>SilentSpectator</td>\n",
              "      <td>Instagram</td>\n",
              "      <td>#Indifference #SilentObserver</td>\n",
              "      <td>9</td>\n",
              "      <td>18</td>\n",
              "      <td>India</td>\n",
              "      <td>2023</td>\n",
              "      <td>3</td>\n",
              "      <td>10</td>\n",
              "      <td>16</td>\n",
              "    </tr>\n",
              "    <tr>\n",
              "      <th>207</th>\n",
              "      <td>210</td>\n",
              "      <td>Floating through the day with an air of indif...</td>\n",
              "      <td>Indifference</td>\n",
              "      <td>3/22/2023 16:30</td>\n",
              "      <td>AloofObserver</td>\n",
              "      <td>Facebook</td>\n",
              "      <td>#Indifference #FloatingThroughLife</td>\n",
              "      <td>10</td>\n",
              "      <td>20</td>\n",
              "      <td>Canada</td>\n",
              "      <td>2023</td>\n",
              "      <td>3</td>\n",
              "      <td>22</td>\n",
              "      <td>16</td>\n",
              "    </tr>\n",
              "    <tr>\n",
              "      <th>347</th>\n",
              "      <td>352</td>\n",
              "      <td>Feeling empowered after conquering a challengi...</td>\n",
              "      <td>Empowerment</td>\n",
              "      <td>9/5/2018 14:20</td>\n",
              "      <td>HikingExplorer</td>\n",
              "      <td>Instagram</td>\n",
              "      <td>#Empowerment #HikingAdventure</td>\n",
              "      <td>35</td>\n",
              "      <td>70</td>\n",
              "      <td>USA</td>\n",
              "      <td>2018</td>\n",
              "      <td>9</td>\n",
              "      <td>5</td>\n",
              "      <td>14</td>\n",
              "    </tr>\n",
              "    <tr>\n",
              "      <th>417</th>\n",
              "      <td>422</td>\n",
              "      <td>Imbued with gratitude for the simple pleasure ...</td>\n",
              "      <td>Gratitude</td>\n",
              "      <td>2/15/2023 8:30</td>\n",
              "      <td>TeaEnthusiast</td>\n",
              "      <td>Twitter</td>\n",
              "      <td>#Gratitude #WarmTea</td>\n",
              "      <td>18</td>\n",
              "      <td>35</td>\n",
              "      <td>Japan</td>\n",
              "      <td>2023</td>\n",
              "      <td>2</td>\n",
              "      <td>15</td>\n",
              "      <td>8</td>\n",
              "    </tr>\n",
              "    <tr>\n",
              "      <th>457</th>\n",
              "      <td>462</td>\n",
              "      <td>A soul weathered by the storm of heartbreak, s...</td>\n",
              "      <td>Heartbreak</td>\n",
              "      <td>4/18/2019 11:00</td>\n",
              "      <td>StormSeeker</td>\n",
              "      <td>Twitter</td>\n",
              "      <td>#Heartbreak #CalmAfterStorm</td>\n",
              "      <td>22</td>\n",
              "      <td>45</td>\n",
              "      <td>Brazil</td>\n",
              "      <td>2019</td>\n",
              "      <td>4</td>\n",
              "      <td>18</td>\n",
              "      <td>11</td>\n",
              "    </tr>\n",
              "    <tr>\n",
              "      <th>147</th>\n",
              "      <td>150</td>\n",
              "      <td>Feeling a sense of fulfillment after helping ...</td>\n",
              "      <td>Fulfillment</td>\n",
              "      <td>8/28/2011 18:45</td>\n",
              "      <td>HelperHeart</td>\n",
              "      <td>Facebook</td>\n",
              "      <td>#Fulfillment #HelpingOthers</td>\n",
              "      <td>22</td>\n",
              "      <td>45</td>\n",
              "      <td>Canada</td>\n",
              "      <td>2011</td>\n",
              "      <td>8</td>\n",
              "      <td>28</td>\n",
              "      <td>18</td>\n",
              "    </tr>\n",
              "    <tr>\n",
              "      <th>341</th>\n",
              "      <td>346</td>\n",
              "      <td>Curiosity sparked by exploring a mysterious an...</td>\n",
              "      <td>Curiosity</td>\n",
              "      <td>8/22/2016 15:10</td>\n",
              "      <td>HistoryExplorer</td>\n",
              "      <td>Facebook</td>\n",
              "      <td>#Curiosity #AncientDiscovery</td>\n",
              "      <td>18</td>\n",
              "      <td>35</td>\n",
              "      <td>Greece</td>\n",
              "      <td>2016</td>\n",
              "      <td>8</td>\n",
              "      <td>22</td>\n",
              "      <td>15</td>\n",
              "    </tr>\n",
              "    <tr>\n",
              "      <th>181</th>\n",
              "      <td>184</td>\n",
              "      <td>Frustration boils over, a volcanic eruption o...</td>\n",
              "      <td>Frustration</td>\n",
              "      <td>4/10/2017 14:45</td>\n",
              "      <td>ExplosiveMind</td>\n",
              "      <td>Twitter</td>\n",
              "      <td>#Frustration #EmotionalOutburst</td>\n",
              "      <td>12</td>\n",
              "      <td>25</td>\n",
              "      <td>USA</td>\n",
              "      <td>2017</td>\n",
              "      <td>4</td>\n",
              "      <td>10</td>\n",
              "      <td>14</td>\n",
              "    </tr>\n",
              "    <tr>\n",
              "      <th>578</th>\n",
              "      <td>583</td>\n",
              "      <td>As the waves crash against the shore, the surf...</td>\n",
              "      <td>Ocean's Freedom</td>\n",
              "      <td>7/20/2021 18:15</td>\n",
              "      <td>SurfingEnthusiastWaveRider</td>\n",
              "      <td>Facebook</td>\n",
              "      <td>#OceansFreedom #SurfingThrills</td>\n",
              "      <td>22</td>\n",
              "      <td>45</td>\n",
              "      <td>Brazil</td>\n",
              "      <td>2021</td>\n",
              "      <td>7</td>\n",
              "      <td>20</td>\n",
              "      <td>18</td>\n",
              "    </tr>\n",
              "    <tr>\n",
              "      <th>676</th>\n",
              "      <td>681</td>\n",
              "      <td>Crafting intricate friendship bracelets for th...</td>\n",
              "      <td>Joy</td>\n",
              "      <td>9/4/2023 15:15</td>\n",
              "      <td>BraceletCraftsmanHighSchool</td>\n",
              "      <td>Instagram</td>\n",
              "      <td>#FriendshipBracelets #HighSchoolCrafts</td>\n",
              "      <td>19</td>\n",
              "      <td>37</td>\n",
              "      <td>USA</td>\n",
              "      <td>2023</td>\n",
              "      <td>9</td>\n",
              "      <td>4</td>\n",
              "      <td>15</td>\n",
              "    </tr>\n",
              "    <tr>\n",
              "      <th>361</th>\n",
              "      <td>366</td>\n",
              "      <td>Enthusiasm for learning new skills and expandi...</td>\n",
              "      <td>Enthusiasm</td>\n",
              "      <td>8/7/2018 12:15</td>\n",
              "      <td>LifelongLearner</td>\n",
              "      <td>Twitter</td>\n",
              "      <td>#Enthusiasm #SkillBuilding</td>\n",
              "      <td>30</td>\n",
              "      <td>60</td>\n",
              "      <td>India</td>\n",
              "      <td>2018</td>\n",
              "      <td>8</td>\n",
              "      <td>7</td>\n",
              "      <td>12</td>\n",
              "    </tr>\n",
              "    <tr>\n",
              "      <th>33</th>\n",
              "      <td>35</td>\n",
              "      <td>Feeling inspired after attending a workshop. ...</td>\n",
              "      <td>Positive</td>\n",
              "      <td>1/26/2023 9:45</td>\n",
              "      <td>WorkshopAttendee</td>\n",
              "      <td>Instagram</td>\n",
              "      <td>#Inspiration #Workshop</td>\n",
              "      <td>25</td>\n",
              "      <td>50</td>\n",
              "      <td>USA</td>\n",
              "      <td>2023</td>\n",
              "      <td>1</td>\n",
              "      <td>26</td>\n",
              "      <td>9</td>\n",
              "    </tr>\n",
              "    <tr>\n",
              "      <th>85</th>\n",
              "      <td>88</td>\n",
              "      <td>Admiring the dedication of volunteers at a lo...</td>\n",
              "      <td>Admiration</td>\n",
              "      <td>2/24/2023 11:30</td>\n",
              "      <td>CharityAdmirer</td>\n",
              "      <td>Twitter</td>\n",
              "      <td>#Admiration #Volunteers</td>\n",
              "      <td>20</td>\n",
              "      <td>40</td>\n",
              "      <td>USA</td>\n",
              "      <td>2023</td>\n",
              "      <td>2</td>\n",
              "      <td>24</td>\n",
              "      <td>11</td>\n",
              "    </tr>\n",
              "    <tr>\n",
              "      <th>90</th>\n",
              "      <td>93</td>\n",
              "      <td>Embracing acceptance of life's ups and downs....</td>\n",
              "      <td>Acceptance</td>\n",
              "      <td>2/25/2023 18:20</td>\n",
              "      <td>LifeAcceptance</td>\n",
              "      <td>Facebook</td>\n",
              "      <td>#Acceptance #LifeJourney</td>\n",
              "      <td>15</td>\n",
              "      <td>30</td>\n",
              "      <td>Canada</td>\n",
              "      <td>2023</td>\n",
              "      <td>2</td>\n",
              "      <td>25</td>\n",
              "      <td>18</td>\n",
              "    </tr>\n",
              "    <tr>\n",
              "      <th>168</th>\n",
              "      <td>171</td>\n",
              "      <td>Frustration mounts as obstacles block my path...</td>\n",
              "      <td>Frustration</td>\n",
              "      <td>1/30/2017 16:10</td>\n",
              "      <td>BlockedGoals</td>\n",
              "      <td>Facebook</td>\n",
              "      <td>#Frustration #Obstacles</td>\n",
              "      <td>10</td>\n",
              "      <td>20</td>\n",
              "      <td>USA</td>\n",
              "      <td>2017</td>\n",
              "      <td>1</td>\n",
              "      <td>30</td>\n",
              "      <td>16</td>\n",
              "    </tr>\n",
              "    <tr>\n",
              "      <th>81</th>\n",
              "      <td>84</td>\n",
              "      <td>Laughter is the key to joy—attending a stand-...</td>\n",
              "      <td>Joy</td>\n",
              "      <td>2/22/2023 19:30</td>\n",
              "      <td>StandUpFan</td>\n",
              "      <td>Facebook</td>\n",
              "      <td>#Joy #StandUpComedy</td>\n",
              "      <td>22</td>\n",
              "      <td>45</td>\n",
              "      <td>Canada</td>\n",
              "      <td>2023</td>\n",
              "      <td>2</td>\n",
              "      <td>22</td>\n",
              "      <td>19</td>\n",
              "    </tr>\n",
              "    <tr>\n",
              "      <th>698</th>\n",
              "      <td>703</td>\n",
              "      <td>Encountering online toxicity during a gaming s...</td>\n",
              "      <td>Hate</td>\n",
              "      <td>9/26/2023 14:15</td>\n",
              "      <td>GamingToxicityHighSchool</td>\n",
              "      <td>Twitter</td>\n",
              "      <td>#OnlineGaming #HighSchoolGamer</td>\n",
              "      <td>16</td>\n",
              "      <td>32</td>\n",
              "      <td>USA</td>\n",
              "      <td>2023</td>\n",
              "      <td>9</td>\n",
              "      <td>26</td>\n",
              "      <td>14</td>\n",
              "    </tr>\n",
              "    <tr>\n",
              "      <th>187</th>\n",
              "      <td>190</td>\n",
              "      <td>Regret for decisions that led to a painful pr...</td>\n",
              "      <td>Regret</td>\n",
              "      <td>12/15/2018 16:00</td>\n",
              "      <td>RegretfulMind</td>\n",
              "      <td>Twitter</td>\n",
              "      <td>#Regret #PastChoices</td>\n",
              "      <td>12</td>\n",
              "      <td>25</td>\n",
              "      <td>USA</td>\n",
              "      <td>2018</td>\n",
              "      <td>12</td>\n",
              "      <td>15</td>\n",
              "      <td>16</td>\n",
              "    </tr>\n",
              "    <tr>\n",
              "      <th>557</th>\n",
              "      <td>562</td>\n",
              "      <td>Despite meticulous training, the swimmer faces...</td>\n",
              "      <td>Miscalculation</td>\n",
              "      <td>6/28/2015 20:00</td>\n",
              "      <td>SwimmingEnthusiastRaceSetback</td>\n",
              "      <td>Instagram</td>\n",
              "      <td>#Miscalculation #SwimmingDisappointment</td>\n",
              "      <td>28</td>\n",
              "      <td>55</td>\n",
              "      <td>Australia</td>\n",
              "      <td>2015</td>\n",
              "      <td>6</td>\n",
              "      <td>28</td>\n",
              "      <td>20</td>\n",
              "    </tr>\n",
              "  </tbody>\n",
              "</table>\n",
              "</div>"
            ],
            "text/plain": [
              "      ID                                               Text  \\\n",
              "150  153   The euphoria of a successful product launch. ...   \n",
              "226  231   Indifferent to the noise of the world, a sile...   \n",
              "207  210   Floating through the day with an air of indif...   \n",
              "347  352  Feeling empowered after conquering a challengi...   \n",
              "417  422  Imbued with gratitude for the simple pleasure ...   \n",
              "457  462  A soul weathered by the storm of heartbreak, s...   \n",
              "147  150   Feeling a sense of fulfillment after helping ...   \n",
              "341  346  Curiosity sparked by exploring a mysterious an...   \n",
              "181  184   Frustration boils over, a volcanic eruption o...   \n",
              "578  583  As the waves crash against the shore, the surf...   \n",
              "676  681  Crafting intricate friendship bracelets for th...   \n",
              "361  366  Enthusiasm for learning new skills and expandi...   \n",
              "33    35   Feeling inspired after attending a workshop. ...   \n",
              "85    88   Admiring the dedication of volunteers at a lo...   \n",
              "90    93   Embracing acceptance of life's ups and downs....   \n",
              "168  171   Frustration mounts as obstacles block my path...   \n",
              "81    84   Laughter is the key to joy—attending a stand-...   \n",
              "698  703  Encountering online toxicity during a gaming s...   \n",
              "187  190   Regret for decisions that led to a painful pr...   \n",
              "557  562  Despite meticulous training, the swimmer faces...   \n",
              "\n",
              "     Sentiment (Label)         Timestamp                             User  \\\n",
              "150     Euphoria          4/3/2022 11:45                 ProductLaunchJoy   \n",
              "226   Indifference       3/10/2023 16:30               SilentSpectator      \n",
              "207   Indifference       3/22/2023 16:30               AloofObserver        \n",
              "347     Empowerment       9/5/2018 14:20                 HikingExplorer     \n",
              "417      Gratitude        2/15/2023 8:30                  TeaEnthusiast     \n",
              "457        Heartbreak    4/18/2019 11:00                     StormSeeker    \n",
              "147     Fulfillment      8/28/2011 18:45                 HelperHeart        \n",
              "341     Curiosity        8/22/2016 15:10                 HistoryExplorer    \n",
              "181       Frustration    4/10/2017 14:45                ExplosiveMind       \n",
              "578   Ocean's Freedom    7/20/2021 18:15      SurfingEnthusiastWaveRider    \n",
              "676               Joy     9/4/2023 15:15     BraceletCraftsmanHighSchool    \n",
              "361     Enthusiasm        8/7/2018 12:15                 LifelongLearner    \n",
              "33          Positive      1/26/2023 9:45                 WorkshopAttendee   \n",
              "85       Admiration      2/24/2023 11:30                 CharityAdmirer     \n",
              "90       Acceptance      2/25/2023 18:20                 LifeAcceptance     \n",
              "168   Frustration        1/30/2017 16:10               BlockedGoals         \n",
              "81       Joy             2/22/2023 19:30                 StandUpFan         \n",
              "698              Hate    9/26/2023 14:15        GamingToxicityHighSchool    \n",
              "187    Regret           12/15/2018 16:00                RegretfulMind       \n",
              "557    Miscalculation    6/28/2015 20:00   SwimmingEnthusiastRaceSetback    \n",
              "\n",
              "          Source                                            Topic  Retweets  \\\n",
              "150    Facebook     #Euphoria #ProductLaunchSuccess                      15   \n",
              "226   Instagram         #Indifference #SilentObserver                     9   \n",
              "207    Facebook        #Indifference #FloatingThroughLife                10   \n",
              "347   Instagram        #Empowerment #HikingAdventure                     35   \n",
              "417    Twitter            #Gratitude #WarmTea                            18   \n",
              "457     Twitter                      #Heartbreak #CalmAfterStorm         22   \n",
              "147    Facebook     #Fulfillment #HelpingOthers                          22   \n",
              "341    Facebook            #Curiosity #AncientDiscovery                  18   \n",
              "181    Twitter       #Frustration #EmotionalOutburst                     12   \n",
              "578    Facebook                   #OceansFreedom #SurfingThrills         22   \n",
              "676   Instagram           #FriendshipBracelets #HighSchoolCrafts         19   \n",
              "361    Twitter          #Enthusiasm #SkillBuilding                       30   \n",
              "33    Instagram          #Inspiration #Workshop                          25   \n",
              "85     Twitter       #Admiration #Volunteers                             20   \n",
              "90     Facebook       #Acceptance #LifeJourney                           15   \n",
              "168    Facebook    #Frustration #Obstacles                               10   \n",
              "81     Facebook      #Joy #StandUpComedy                                 22   \n",
              "698     Twitter                   #OnlineGaming #HighSchoolGamer         16   \n",
              "187    Twitter       #Regret #PastChoices                                12   \n",
              "557   Instagram          #Miscalculation #SwimmingDisappointment         28   \n",
              "\n",
              "     Likes              Country  Year  Month  Day  Hour  \n",
              "150     30           USA         2022      4    3    11  \n",
              "226     18       India           2023      3   10    16  \n",
              "207     20       Canada          2023      3   22    16  \n",
              "347     70   USA                 2018      9    5    14  \n",
              "417     35     Japan             2023      2   15     8  \n",
              "457     45              Brazil   2019      4   18    11  \n",
              "147     45           Canada      2011      8   28    18  \n",
              "341     35   Greece              2016      8   22    15  \n",
              "181     25        USA            2017      4   10    14  \n",
              "578     45              Brazil   2021      7   20    18  \n",
              "676     37                  USA  2023      9    4    15  \n",
              "361     60   India               2018      8    7    12  \n",
              "33      50                  USA  2023      1   26     9  \n",
              "85      40          USA          2023      2   24    11  \n",
              "90      30          Canada       2023      2   25    18  \n",
              "168     20        USA            2017      1   30    16  \n",
              "81      45           Canada      2023      2   22    19  \n",
              "698     32                  USA  2023      9   26    14  \n",
              "187     25        USA            2018     12   15    16  \n",
              "557     55           Australia   2015      6   28    20  "
            ]
          },
          "execution_count": 138,
          "metadata": {},
          "output_type": "execute_result"
        }
      ],
      "source": [
        "dataset.sample(20) #display 20 random rows"
      ]
    },
    {
      "cell_type": "code",
      "execution_count": 139,
      "metadata": {
        "colab": {
          "base_uri": "https://localhost:8080/"
        },
        "id": "zQEgvP8DU5Oc",
        "outputId": "4d5b0ce2-03c3-4235-f5e7-99e59d65b983"
      },
      "outputs": [
        {
          "data": {
            "text/plain": [
              "(732, 14)"
            ]
          },
          "execution_count": 139,
          "metadata": {},
          "output_type": "execute_result"
        }
      ],
      "source": [
        "dataset.shape"
      ]
    },
    {
      "cell_type": "code",
      "execution_count": 140,
      "metadata": {
        "colab": {
          "base_uri": "https://localhost:8080/"
        },
        "id": "Kaf7X9OxU5Ju",
        "outputId": "8308e5b7-0a20-46b4-9def-f0e5164ca356"
      },
      "outputs": [
        {
          "data": {
            "text/plain": [
              "Index(['ID', 'Text', 'Sentiment (Label)', 'Timestamp', 'User', 'Source',\n",
              "       'Topic', 'Retweets', 'Likes', 'Country', 'Year', 'Month', 'Day',\n",
              "       'Hour'],\n",
              "      dtype='object')"
            ]
          },
          "execution_count": 140,
          "metadata": {},
          "output_type": "execute_result"
        }
      ],
      "source": [
        "dataset.columns"
      ]
    },
    {
      "cell_type": "markdown",
      "metadata": {
        "id": "famSCcudcl_h"
      },
      "source": [
        "checking datatypes of features"
      ]
    },
    {
      "cell_type": "code",
      "execution_count": 141,
      "metadata": {
        "colab": {
          "base_uri": "https://localhost:8080/"
        },
        "id": "3SYJnSD5V4MD",
        "outputId": "cde7c53c-6f45-44d0-e681-1d25c8f9b899"
      },
      "outputs": [
        {
          "name": "stdout",
          "output_type": "stream",
          "text": [
            "<class 'pandas.core.frame.DataFrame'>\n",
            "RangeIndex: 732 entries, 0 to 731\n",
            "Data columns (total 14 columns):\n",
            " #   Column             Non-Null Count  Dtype \n",
            "---  ------             --------------  ----- \n",
            " 0   ID                 732 non-null    int64 \n",
            " 1   Text               732 non-null    object\n",
            " 2   Sentiment (Label)  732 non-null    object\n",
            " 3   Timestamp          732 non-null    object\n",
            " 4   User               732 non-null    object\n",
            " 5   Source             732 non-null    object\n",
            " 6   Topic              732 non-null    object\n",
            " 7   Retweets           732 non-null    int64 \n",
            " 8   Likes              732 non-null    int64 \n",
            " 9   Country            732 non-null    object\n",
            " 10  Year               732 non-null    int64 \n",
            " 11  Month              732 non-null    int64 \n",
            " 12  Day                732 non-null    int64 \n",
            " 13  Hour               732 non-null    int64 \n",
            "dtypes: int64(7), object(7)\n",
            "memory usage: 80.2+ KB\n"
          ]
        }
      ],
      "source": [
        "dataset.info()"
      ]
    },
    {
      "cell_type": "markdown",
      "metadata": {
        "id": "QdvDinOPBelP"
      },
      "source": [
        "##Data preprocessing"
      ]
    },
    {
      "cell_type": "markdown",
      "metadata": {
        "id": "DWIZkFFRcpIc"
      },
      "source": [
        "checking for nulls"
      ]
    },
    {
      "cell_type": "code",
      "execution_count": 142,
      "metadata": {
        "colab": {
          "base_uri": "https://localhost:8080/"
        },
        "id": "J-8sHk4x78a6",
        "outputId": "8382ad4c-5e13-4ebd-c269-2ed82432588e"
      },
      "outputs": [
        {
          "data": {
            "text/plain": [
              "ID                   0\n",
              "Text                 0\n",
              "Sentiment (Label)    0\n",
              "Timestamp            0\n",
              "User                 0\n",
              "Source               0\n",
              "Topic                0\n",
              "Retweets             0\n",
              "Likes                0\n",
              "Country              0\n",
              "Year                 0\n",
              "Month                0\n",
              "Day                  0\n",
              "Hour                 0\n",
              "dtype: int64"
            ]
          },
          "execution_count": 142,
          "metadata": {},
          "output_type": "execute_result"
        }
      ],
      "source": [
        "dataset.isnull().sum()"
      ]
    },
    {
      "cell_type": "markdown",
      "metadata": {
        "id": "w46XQSnCcrh-"
      },
      "source": [
        "checking for duplicates in the dataset"
      ]
    },
    {
      "cell_type": "code",
      "execution_count": 143,
      "metadata": {
        "colab": {
          "base_uri": "https://localhost:8080/"
        },
        "id": "_Jb1-Vala8-e",
        "outputId": "43425180-307b-4695-92b6-d4f1ce1035d4"
      },
      "outputs": [
        {
          "data": {
            "text/plain": [
              "0"
            ]
          },
          "execution_count": 143,
          "metadata": {},
          "output_type": "execute_result"
        }
      ],
      "source": [
        "dataset.duplicated().sum()"
      ]
    },
    {
      "cell_type": "code",
      "execution_count": 144,
      "metadata": {
        "colab": {
          "base_uri": "https://localhost:8080/"
        },
        "id": "X0BXV6AJbpG5",
        "outputId": "9b152315-d3e5-456f-ab92-b46c5848e2d5"
      },
      "outputs": [
        {
          "data": {
            "text/plain": [
              "Sentiment (Label)\n",
              " Positive           44\n",
              " Joy                42\n",
              " Excitement         32\n",
              " Neutral            14\n",
              " Contentment        14\n",
              "                    ..\n",
              " Adrenaline          1\n",
              " Harmony             1\n",
              " ArtisticBurst       1\n",
              " Radiance            1\n",
              " Elegance            1\n",
              "Name: count, Length: 279, dtype: int64"
            ]
          },
          "execution_count": 144,
          "metadata": {},
          "output_type": "execute_result"
        }
      ],
      "source": [
        "dataset['Sentiment (Label)'].value_counts()"
      ]
    },
    {
      "cell_type": "markdown",
      "metadata": {
        "id": "mZ6HdNscBJgZ"
      },
      "source": [
        "###Converting into lowercase"
      ]
    },
    {
      "cell_type": "code",
      "execution_count": 145,
      "metadata": {
        "id": "5MNb8wnyc_Y7"
      },
      "outputs": [],
      "source": [
        "columns_to_lowercase = ['Sentiment (Label)','Text']\n",
        "for column in columns_to_lowercase:\n",
        "    dataset[column] = dataset[column].str.lower()"
      ]
    },
    {
      "cell_type": "code",
      "execution_count": 146,
      "metadata": {
        "colab": {
          "base_uri": "https://localhost:8080/",
          "height": 1000
        },
        "id": "_JnUjrXU2kyL",
        "outputId": "3cf4f43b-6a80-46ab-bc34-f9527b14a208"
      },
      "outputs": [
        {
          "data": {
            "text/html": [
              "<div>\n",
              "<style scoped>\n",
              "    .dataframe tbody tr th:only-of-type {\n",
              "        vertical-align: middle;\n",
              "    }\n",
              "\n",
              "    .dataframe tbody tr th {\n",
              "        vertical-align: top;\n",
              "    }\n",
              "\n",
              "    .dataframe thead th {\n",
              "        text-align: right;\n",
              "    }\n",
              "</style>\n",
              "<table border=\"1\" class=\"dataframe\">\n",
              "  <thead>\n",
              "    <tr style=\"text-align: right;\">\n",
              "      <th></th>\n",
              "      <th>ID</th>\n",
              "      <th>Text</th>\n",
              "      <th>Sentiment (Label)</th>\n",
              "      <th>Timestamp</th>\n",
              "      <th>User</th>\n",
              "      <th>Source</th>\n",
              "      <th>Topic</th>\n",
              "      <th>Retweets</th>\n",
              "      <th>Likes</th>\n",
              "      <th>Country</th>\n",
              "      <th>Year</th>\n",
              "      <th>Month</th>\n",
              "      <th>Day</th>\n",
              "      <th>Hour</th>\n",
              "    </tr>\n",
              "  </thead>\n",
              "  <tbody>\n",
              "    <tr>\n",
              "      <th>713</th>\n",
              "      <td>718</td>\n",
              "      <td>participating in a science fair to showcase a ...</td>\n",
              "      <td>neutral</td>\n",
              "      <td>10/11/2023 16:45</td>\n",
              "      <td>ScienceFairParticipationHighSchool</td>\n",
              "      <td>Facebook</td>\n",
              "      <td>#ScienceFair #HighSchoolScience</td>\n",
              "      <td>19</td>\n",
              "      <td>37</td>\n",
              "      <td>USA</td>\n",
              "      <td>2023</td>\n",
              "      <td>10</td>\n",
              "      <td>11</td>\n",
              "      <td>16</td>\n",
              "    </tr>\n",
              "    <tr>\n",
              "      <th>643</th>\n",
              "      <td>648</td>\n",
              "      <td>exploring the world of coding. debugging is an...</td>\n",
              "      <td>excitement</td>\n",
              "      <td>8/2/2023 14:45</td>\n",
              "      <td>CodeExplorerHighSchool</td>\n",
              "      <td>Twitter</td>\n",
              "      <td>#CodingAdventure #HighSchoolCoderLife</td>\n",
              "      <td>25</td>\n",
              "      <td>50</td>\n",
              "      <td>UK</td>\n",
              "      <td>2023</td>\n",
              "      <td>8</td>\n",
              "      <td>2</td>\n",
              "      <td>14</td>\n",
              "    </tr>\n",
              "    <tr>\n",
              "      <th>645</th>\n",
              "      <td>650</td>\n",
              "      <td>started a photography club at school. capturin...</td>\n",
              "      <td>joy</td>\n",
              "      <td>8/4/2023 16:30</td>\n",
              "      <td>PhotoClubHighSchool</td>\n",
              "      <td>Instagram</td>\n",
              "      <td>#PhotographyClub #HighSchoolPhotographer</td>\n",
              "      <td>22</td>\n",
              "      <td>45</td>\n",
              "      <td>USA</td>\n",
              "      <td>2023</td>\n",
              "      <td>8</td>\n",
              "      <td>4</td>\n",
              "      <td>16</td>\n",
              "    </tr>\n",
              "    <tr>\n",
              "      <th>418</th>\n",
              "      <td>423</td>\n",
              "      <td>marveling at the kaleidoscope of colors in a v...</td>\n",
              "      <td>marvel</td>\n",
              "      <td>8/22/2015 15:00</td>\n",
              "      <td>MarketExplorer</td>\n",
              "      <td>Instagram</td>\n",
              "      <td>#Marvel #ColorfulStreetMarket</td>\n",
              "      <td>22</td>\n",
              "      <td>45</td>\n",
              "      <td>Brazil</td>\n",
              "      <td>2015</td>\n",
              "      <td>8</td>\n",
              "      <td>22</td>\n",
              "      <td>15</td>\n",
              "    </tr>\n",
              "    <tr>\n",
              "      <th>457</th>\n",
              "      <td>462</td>\n",
              "      <td>a soul weathered by the storm of heartbreak, s...</td>\n",
              "      <td>heartbreak</td>\n",
              "      <td>4/18/2019 11:00</td>\n",
              "      <td>StormSeeker</td>\n",
              "      <td>Twitter</td>\n",
              "      <td>#Heartbreak #CalmAfterStorm</td>\n",
              "      <td>22</td>\n",
              "      <td>45</td>\n",
              "      <td>Brazil</td>\n",
              "      <td>2019</td>\n",
              "      <td>4</td>\n",
              "      <td>18</td>\n",
              "      <td>11</td>\n",
              "    </tr>\n",
              "    <tr>\n",
              "      <th>664</th>\n",
              "      <td>669</td>\n",
              "      <td>hiding a snack stash in my backpack for emerge...</td>\n",
              "      <td>mischievous</td>\n",
              "      <td>8/23/2023 16:45</td>\n",
              "      <td>SnackNinjaHighSchool</td>\n",
              "      <td>Twitter</td>\n",
              "      <td>#SnackNinja #HighSchoolSnacks</td>\n",
              "      <td>28</td>\n",
              "      <td>55</td>\n",
              "      <td>USA</td>\n",
              "      <td>2023</td>\n",
              "      <td>8</td>\n",
              "      <td>23</td>\n",
              "      <td>16</td>\n",
              "    </tr>\n",
              "    <tr>\n",
              "      <th>81</th>\n",
              "      <td>84</td>\n",
              "      <td>laughter is the key to joy—attending a stand-...</td>\n",
              "      <td>joy</td>\n",
              "      <td>2/22/2023 19:30</td>\n",
              "      <td>StandUpFan</td>\n",
              "      <td>Facebook</td>\n",
              "      <td>#Joy #StandUpComedy</td>\n",
              "      <td>22</td>\n",
              "      <td>45</td>\n",
              "      <td>Canada</td>\n",
              "      <td>2023</td>\n",
              "      <td>2</td>\n",
              "      <td>22</td>\n",
              "      <td>19</td>\n",
              "    </tr>\n",
              "    <tr>\n",
              "      <th>249</th>\n",
              "      <td>254</td>\n",
              "      <td>gazing towards the horizon with hopeful eyes,...</td>\n",
              "      <td>hopeful</td>\n",
              "      <td>4/18/2022 8:00</td>\n",
              "      <td>DreamPainter</td>\n",
              "      <td>Instagram</td>\n",
              "      <td>#Hopeful #CanvasOfDreams</td>\n",
              "      <td>12</td>\n",
              "      <td>24</td>\n",
              "      <td>India</td>\n",
              "      <td>2022</td>\n",
              "      <td>4</td>\n",
              "      <td>18</td>\n",
              "      <td>8</td>\n",
              "    </tr>\n",
              "    <tr>\n",
              "      <th>145</th>\n",
              "      <td>148</td>\n",
              "      <td>arousal of excitement before a much-awaited t...</td>\n",
              "      <td>arousal</td>\n",
              "      <td>3/10/2018 9:45</td>\n",
              "      <td>TravelExcitement</td>\n",
              "      <td>Twitter</td>\n",
              "      <td>#Arousal #TravelAdventure</td>\n",
              "      <td>20</td>\n",
              "      <td>40</td>\n",
              "      <td>India</td>\n",
              "      <td>2018</td>\n",
              "      <td>3</td>\n",
              "      <td>10</td>\n",
              "      <td>9</td>\n",
              "    </tr>\n",
              "    <tr>\n",
              "      <th>377</th>\n",
              "      <td>382</td>\n",
              "      <td>pensive contemplation amid the ancient ruins o...</td>\n",
              "      <td>pensive</td>\n",
              "      <td>4/18/2023 17:10</td>\n",
              "      <td>RuinsExplorer</td>\n",
              "      <td>Twitter</td>\n",
              "      <td>#Pensive #AncientCivilization</td>\n",
              "      <td>18</td>\n",
              "      <td>35</td>\n",
              "      <td>Greece</td>\n",
              "      <td>2023</td>\n",
              "      <td>4</td>\n",
              "      <td>18</td>\n",
              "      <td>17</td>\n",
              "    </tr>\n",
              "    <tr>\n",
              "      <th>704</th>\n",
              "      <td>709</td>\n",
              "      <td>trying out a new study technique for upcoming ...</td>\n",
              "      <td>neutral</td>\n",
              "      <td>10/2/2023 16:45</td>\n",
              "      <td>StudyTechniqueExperimentHighSchool</td>\n",
              "      <td>Instagram</td>\n",
              "      <td>#StudyStrategies #HighSchoolExams</td>\n",
              "      <td>23</td>\n",
              "      <td>42</td>\n",
              "      <td>USA</td>\n",
              "      <td>2023</td>\n",
              "      <td>10</td>\n",
              "      <td>2</td>\n",
              "      <td>16</td>\n",
              "    </tr>\n",
              "    <tr>\n",
              "      <th>640</th>\n",
              "      <td>645</td>\n",
              "      <td>started a blog sharing the wisdom gained throu...</td>\n",
              "      <td>gratitude</td>\n",
              "      <td>7/19/2023 19:45</td>\n",
              "      <td>WisdomBloggerSenior</td>\n",
              "      <td>Instagram</td>\n",
              "      <td>#LifeLessons #SeniorBlog</td>\n",
              "      <td>22</td>\n",
              "      <td>45</td>\n",
              "      <td>UK</td>\n",
              "      <td>2023</td>\n",
              "      <td>7</td>\n",
              "      <td>19</td>\n",
              "      <td>19</td>\n",
              "    </tr>\n",
              "    <tr>\n",
              "      <th>154</th>\n",
              "      <td>157</td>\n",
              "      <td>hopeful about the potential for personal grow...</td>\n",
              "      <td>hope</td>\n",
              "      <td>10/5/2013 16:40</td>\n",
              "      <td>GrowthOptimist</td>\n",
              "      <td>Twitter</td>\n",
              "      <td>#Hope #PersonalDevelopment</td>\n",
              "      <td>18</td>\n",
              "      <td>35</td>\n",
              "      <td>UK</td>\n",
              "      <td>2013</td>\n",
              "      <td>10</td>\n",
              "      <td>5</td>\n",
              "      <td>16</td>\n",
              "    </tr>\n",
              "    <tr>\n",
              "      <th>542</th>\n",
              "      <td>547</td>\n",
              "      <td>in the cricket championship, a nail-biting fin...</td>\n",
              "      <td>excitement</td>\n",
              "      <td>6/25/2019 22:15</td>\n",
              "      <td>CricketFanChampionshipThrills</td>\n",
              "      <td>Facebook</td>\n",
              "      <td>#Excitement #CricketChampionship</td>\n",
              "      <td>30</td>\n",
              "      <td>60</td>\n",
              "      <td>India</td>\n",
              "      <td>2019</td>\n",
              "      <td>6</td>\n",
              "      <td>25</td>\n",
              "      <td>22</td>\n",
              "    </tr>\n",
              "    <tr>\n",
              "      <th>67</th>\n",
              "      <td>70</td>\n",
              "      <td>overflowing with adoration for my adorable pe...</td>\n",
              "      <td>adoration</td>\n",
              "      <td>2/17/2023 10:45</td>\n",
              "      <td>PetAdorer</td>\n",
              "      <td>Twitter</td>\n",
              "      <td>#Adoration #PetLove</td>\n",
              "      <td>22</td>\n",
              "      <td>45</td>\n",
              "      <td>UK</td>\n",
              "      <td>2023</td>\n",
              "      <td>2</td>\n",
              "      <td>17</td>\n",
              "      <td>10</td>\n",
              "    </tr>\n",
              "    <tr>\n",
              "      <th>450</th>\n",
              "      <td>455</td>\n",
              "      <td>suffocating in the silence of solitude, where ...</td>\n",
              "      <td>isolation</td>\n",
              "      <td>5/20/2022 20:30</td>\n",
              "      <td>EchoedLaughter</td>\n",
              "      <td>Instagram</td>\n",
              "      <td>#Isolation #SilentSolitude</td>\n",
              "      <td>30</td>\n",
              "      <td>60</td>\n",
              "      <td>South Africa</td>\n",
              "      <td>2022</td>\n",
              "      <td>5</td>\n",
              "      <td>20</td>\n",
              "      <td>20</td>\n",
              "    </tr>\n",
              "    <tr>\n",
              "      <th>294</th>\n",
              "      <td>299</td>\n",
              "      <td>embraced by the hopeful dawn, a gardener sowi...</td>\n",
              "      <td>hopeful</td>\n",
              "      <td>7/17/2022 6:15</td>\n",
              "      <td>DawnGardener</td>\n",
              "      <td>Instagram</td>\n",
              "      <td>#Hopeful #SeedsOfOptimism</td>\n",
              "      <td>14</td>\n",
              "      <td>28</td>\n",
              "      <td>India</td>\n",
              "      <td>2022</td>\n",
              "      <td>7</td>\n",
              "      <td>17</td>\n",
              "      <td>6</td>\n",
              "    </tr>\n",
              "    <tr>\n",
              "      <th>181</th>\n",
              "      <td>184</td>\n",
              "      <td>frustration boils over, a volcanic eruption o...</td>\n",
              "      <td>frustration</td>\n",
              "      <td>4/10/2017 14:45</td>\n",
              "      <td>ExplosiveMind</td>\n",
              "      <td>Twitter</td>\n",
              "      <td>#Frustration #EmotionalOutburst</td>\n",
              "      <td>12</td>\n",
              "      <td>25</td>\n",
              "      <td>USA</td>\n",
              "      <td>2017</td>\n",
              "      <td>4</td>\n",
              "      <td>10</td>\n",
              "      <td>14</td>\n",
              "    </tr>\n",
              "    <tr>\n",
              "      <th>107</th>\n",
              "      <td>110</td>\n",
              "      <td>pride in accomplishing personal and professio...</td>\n",
              "      <td>pride</td>\n",
              "      <td>3/3/2023 14:30</td>\n",
              "      <td>GoalAchiever</td>\n",
              "      <td>Instagram</td>\n",
              "      <td>#Pride #Accomplishments</td>\n",
              "      <td>12</td>\n",
              "      <td>25</td>\n",
              "      <td>Canada</td>\n",
              "      <td>2023</td>\n",
              "      <td>3</td>\n",
              "      <td>3</td>\n",
              "      <td>14</td>\n",
              "    </tr>\n",
              "    <tr>\n",
              "      <th>573</th>\n",
              "      <td>578</td>\n",
              "      <td>amidst the pages of a captivating mystery nove...</td>\n",
              "      <td>thrilling journey</td>\n",
              "      <td>4/10/2017 21:15</td>\n",
              "      <td>MysteryBookwormSuspensefulRead</td>\n",
              "      <td>Twitter</td>\n",
              "      <td>#ThrillingJourney #MysteryNovel</td>\n",
              "      <td>22</td>\n",
              "      <td>45</td>\n",
              "      <td>UK</td>\n",
              "      <td>2017</td>\n",
              "      <td>4</td>\n",
              "      <td>10</td>\n",
              "      <td>21</td>\n",
              "    </tr>\n",
              "  </tbody>\n",
              "</table>\n",
              "</div>"
            ],
            "text/plain": [
              "      ID                                               Text  \\\n",
              "713  718  participating in a science fair to showcase a ...   \n",
              "643  648  exploring the world of coding. debugging is an...   \n",
              "645  650  started a photography club at school. capturin...   \n",
              "418  423  marveling at the kaleidoscope of colors in a v...   \n",
              "457  462  a soul weathered by the storm of heartbreak, s...   \n",
              "664  669  hiding a snack stash in my backpack for emerge...   \n",
              "81    84   laughter is the key to joy—attending a stand-...   \n",
              "249  254   gazing towards the horizon with hopeful eyes,...   \n",
              "145  148   arousal of excitement before a much-awaited t...   \n",
              "377  382  pensive contemplation amid the ancient ruins o...   \n",
              "704  709  trying out a new study technique for upcoming ...   \n",
              "640  645  started a blog sharing the wisdom gained throu...   \n",
              "154  157   hopeful about the potential for personal grow...   \n",
              "542  547  in the cricket championship, a nail-biting fin...   \n",
              "67    70   overflowing with adoration for my adorable pe...   \n",
              "450  455  suffocating in the silence of solitude, where ...   \n",
              "294  299   embraced by the hopeful dawn, a gardener sowi...   \n",
              "181  184   frustration boils over, a volcanic eruption o...   \n",
              "107  110   pride in accomplishing personal and professio...   \n",
              "573  578  amidst the pages of a captivating mystery nove...   \n",
              "\n",
              "       Sentiment (Label)         Timestamp  \\\n",
              "713             neutral   10/11/2023 16:45   \n",
              "643          excitement     8/2/2023 14:45   \n",
              "645                 joy     8/4/2023 16:30   \n",
              "418        marvel          8/22/2015 15:00   \n",
              "457          heartbreak    4/18/2019 11:00   \n",
              "664         mischievous    8/23/2023 16:45   \n",
              "81         joy             2/22/2023 19:30   \n",
              "249             hopeful     4/18/2022 8:00   \n",
              "145       arousal           3/10/2018 9:45   \n",
              "377             pensive    4/18/2023 17:10   \n",
              "704             neutral    10/2/2023 16:45   \n",
              "640           gratitude    7/19/2023 19:45   \n",
              "154       hope             10/5/2013 16:40   \n",
              "542          excitement    6/25/2019 22:15   \n",
              "67         adoration       2/17/2023 10:45   \n",
              "450           isolation    5/20/2022 20:30   \n",
              "294             hopeful     7/17/2022 6:15   \n",
              "181         frustration    4/10/2017 14:45   \n",
              "107        pride            3/3/2023 14:30   \n",
              "573   thrilling journey    4/10/2017 21:15   \n",
              "\n",
              "                                     User       Source  \\\n",
              "713   ScienceFairParticipationHighSchool     Facebook    \n",
              "643               CodeExplorerHighSchool      Twitter    \n",
              "645                  PhotoClubHighSchool    Instagram    \n",
              "418                       MarketExplorer    Instagram    \n",
              "457                          StormSeeker      Twitter    \n",
              "664                 SnackNinjaHighSchool      Twitter    \n",
              "81                       StandUpFan          Facebook    \n",
              "249                         DreamPainter    Instagram    \n",
              "145                      TravelExcitement    Twitter     \n",
              "377                      RuinsExplorer       Twitter     \n",
              "704   StudyTechniqueExperimentHighSchool    Instagram    \n",
              "640                  WisdomBloggerSenior    Instagram    \n",
              "154                      GrowthOptimist      Twitter     \n",
              "542        CricketFanChampionshipThrills     Facebook    \n",
              "67                       PetAdorer           Twitter     \n",
              "450                       EchoedLaughter    Instagram    \n",
              "294                         DawnGardener    Instagram    \n",
              "181                     ExplosiveMind        Twitter     \n",
              "107                      GoalAchiever       Instagram    \n",
              "573       MysteryBookwormSuspensefulRead      Twitter    \n",
              "\n",
              "                                               Topic  Retweets  Likes  \\\n",
              "713                 #ScienceFair #HighSchoolScience         19     37   \n",
              "643           #CodingAdventure #HighSchoolCoderLife         25     50   \n",
              "645        #PhotographyClub #HighSchoolPhotographer         22     45   \n",
              "418          #Marvel #ColorfulStreetMarket                  22     45   \n",
              "457                     #Heartbreak #CalmAfterStorm         22     45   \n",
              "664                   #SnackNinja #HighSchoolSnacks         28     55   \n",
              "81      #Joy #StandUpComedy                                 22     45   \n",
              "249                        #Hopeful #CanvasOfDreams         12     24   \n",
              "145   #Arousal #TravelAdventure                             20     40   \n",
              "377         #Pensive #AncientCivilization                   18     35   \n",
              "704               #StudyStrategies #HighSchoolExams         23     42   \n",
              "640                        #LifeLessons #SeniorBlog         22     45   \n",
              "154   #Hope #PersonalDevelopment                            18     35   \n",
              "542                #Excitement #CricketChampionship         30     60   \n",
              "67      #Adoration #PetLove                                 22     45   \n",
              "450                      #Isolation #SilentSolitude         30     60   \n",
              "294                       #Hopeful #SeedsOfOptimism         14     28   \n",
              "181     #Frustration #EmotionalOutburst                     12     25   \n",
              "107     #Pride #Accomplishments                             12     25   \n",
              "573                 #ThrillingJourney #MysteryNovel         22     45   \n",
              "\n",
              "                Country  Year  Month  Day  Hour  \n",
              "713                 USA  2023     10   11    16  \n",
              "643                  UK  2023      8    2    14  \n",
              "645                 USA  2023      8    4    16  \n",
              "418    Brazil            2015      8   22    15  \n",
              "457             Brazil   2019      4   18    11  \n",
              "664                 USA  2023      8   23    16  \n",
              "81           Canada      2023      2   22    19  \n",
              "249              India   2022      4   18     8  \n",
              "145           India      2018      3   10     9  \n",
              "377   Greece             2023      4   18    17  \n",
              "704                 USA  2023     10    2    16  \n",
              "640                  UK  2023      7   19    19  \n",
              "154           UK         2013     10    5    16  \n",
              "542              India   2019      6   25    22  \n",
              "67           UK          2023      2   17    10  \n",
              "450       South Africa   2022      5   20    20  \n",
              "294              India   2022      7   17     6  \n",
              "181       USA            2017      4   10    14  \n",
              "107             Canada   2023      3    3    14  \n",
              "573                 UK   2017      4   10    21  "
            ]
          },
          "execution_count": 146,
          "metadata": {},
          "output_type": "execute_result"
        }
      ],
      "source": [
        "dataset.sample(20)"
      ]
    },
    {
      "cell_type": "markdown",
      "metadata": {
        "id": "_yt54hb__efB"
      },
      "source": [
        "###Operations on 'Topic' column to split it into two columns"
      ]
    },
    {
      "cell_type": "markdown",
      "metadata": {
        "id": "rqZs-XJM4sR8"
      },
      "source": [
        "Searching in \"Topic\" column if there exist a row with topics !=2 (if less or more)"
      ]
    },
    {
      "cell_type": "code",
      "execution_count": 147,
      "metadata": {
        "colab": {
          "base_uri": "https://localhost:8080/"
        },
        "id": "mj6ZkJEk4ABI",
        "outputId": "f06c2269-6336-4e72-fa92-e32de212484b"
      },
      "outputs": [
        {
          "name": "stdout",
          "output_type": "stream",
          "text": [
            "Count of rows where the number of hashtags is not 2: 0\n"
          ]
        }
      ],
      "source": [
        "# Count the number of rows where the hashtag count is not 2\n",
        "non_2_count = dataset[dataset['Topic'].apply(lambda x: x.count('#')) != 2].shape[0]\n",
        "\n",
        "# Print the count\n",
        "print(\"Count of rows where the number of hashtags is not 2:\", non_2_count)"
      ]
    },
    {
      "cell_type": "markdown",
      "metadata": {
        "id": "rw8stH1m4-r2"
      },
      "source": [
        "Then we can split it into two different columns called Topic 1 and Topic 2"
      ]
    },
    {
      "cell_type": "code",
      "execution_count": 148,
      "metadata": {
        "id": "Q5wFInmCvw_V"
      },
      "outputs": [],
      "source": [
        "# Split the \"Topic\" column into two separate columns\n",
        "dataset[['Topic1', 'Topic2']] = dataset['Topic'].str.extract(r'\\#(\\w+)\\s+\\#(\\w+)')\n",
        "# The regular expression \\#(\\w+)\\s+\\#(\\w+) matches two hashtags followed by words and extracts the words.\n",
        "\n",
        "# Drop the original \"Topic\" column\n",
        "dataset.drop(columns=['Topic'], inplace=True)\n"
      ]
    },
    {
      "cell_type": "code",
      "execution_count": 149,
      "metadata": {
        "colab": {
          "base_uri": "https://localhost:8080/",
          "height": 362
        },
        "id": "kqKVHqoC3qq3",
        "outputId": "7da3211c-3db8-4173-aa0b-e8e74925d4df"
      },
      "outputs": [
        {
          "data": {
            "text/html": [
              "<div>\n",
              "<style scoped>\n",
              "    .dataframe tbody tr th:only-of-type {\n",
              "        vertical-align: middle;\n",
              "    }\n",
              "\n",
              "    .dataframe tbody tr th {\n",
              "        vertical-align: top;\n",
              "    }\n",
              "\n",
              "    .dataframe thead th {\n",
              "        text-align: right;\n",
              "    }\n",
              "</style>\n",
              "<table border=\"1\" class=\"dataframe\">\n",
              "  <thead>\n",
              "    <tr style=\"text-align: right;\">\n",
              "      <th></th>\n",
              "      <th>ID</th>\n",
              "      <th>Text</th>\n",
              "      <th>Sentiment (Label)</th>\n",
              "      <th>Timestamp</th>\n",
              "      <th>User</th>\n",
              "      <th>Source</th>\n",
              "      <th>Retweets</th>\n",
              "      <th>Likes</th>\n",
              "      <th>Country</th>\n",
              "      <th>Year</th>\n",
              "      <th>Month</th>\n",
              "      <th>Day</th>\n",
              "      <th>Hour</th>\n",
              "      <th>Topic1</th>\n",
              "      <th>Topic2</th>\n",
              "    </tr>\n",
              "  </thead>\n",
              "  <tbody>\n",
              "    <tr>\n",
              "      <th>0</th>\n",
              "      <td>0</td>\n",
              "      <td>enjoying a beautiful day at the park!        ...</td>\n",
              "      <td>positive</td>\n",
              "      <td>1/15/2023 12:30</td>\n",
              "      <td>User123</td>\n",
              "      <td>Twitter</td>\n",
              "      <td>15</td>\n",
              "      <td>30</td>\n",
              "      <td>USA</td>\n",
              "      <td>2023</td>\n",
              "      <td>1</td>\n",
              "      <td>15</td>\n",
              "      <td>12</td>\n",
              "      <td>Nature</td>\n",
              "      <td>Park</td>\n",
              "    </tr>\n",
              "    <tr>\n",
              "      <th>1</th>\n",
              "      <td>1</td>\n",
              "      <td>traffic was terrible this morning.           ...</td>\n",
              "      <td>negative</td>\n",
              "      <td>1/15/2023 8:45</td>\n",
              "      <td>CommuterX</td>\n",
              "      <td>Twitter</td>\n",
              "      <td>5</td>\n",
              "      <td>10</td>\n",
              "      <td>Canada</td>\n",
              "      <td>2023</td>\n",
              "      <td>1</td>\n",
              "      <td>15</td>\n",
              "      <td>8</td>\n",
              "      <td>Traffic</td>\n",
              "      <td>Morning</td>\n",
              "    </tr>\n",
              "    <tr>\n",
              "      <th>2</th>\n",
              "      <td>2</td>\n",
              "      <td>just finished an amazing workout! 💪          ...</td>\n",
              "      <td>positive</td>\n",
              "      <td>1/15/2023 15:45</td>\n",
              "      <td>FitnessFan</td>\n",
              "      <td>Instagram</td>\n",
              "      <td>20</td>\n",
              "      <td>40</td>\n",
              "      <td>USA</td>\n",
              "      <td>2023</td>\n",
              "      <td>1</td>\n",
              "      <td>15</td>\n",
              "      <td>15</td>\n",
              "      <td>Fitness</td>\n",
              "      <td>Workout</td>\n",
              "    </tr>\n",
              "    <tr>\n",
              "      <th>3</th>\n",
              "      <td>3</td>\n",
              "      <td>excited about the upcoming weekend getaway!  ...</td>\n",
              "      <td>positive</td>\n",
              "      <td>1/15/2023 18:20</td>\n",
              "      <td>AdventureX</td>\n",
              "      <td>Facebook</td>\n",
              "      <td>8</td>\n",
              "      <td>15</td>\n",
              "      <td>UK</td>\n",
              "      <td>2023</td>\n",
              "      <td>1</td>\n",
              "      <td>15</td>\n",
              "      <td>18</td>\n",
              "      <td>Travel</td>\n",
              "      <td>Adventure</td>\n",
              "    </tr>\n",
              "    <tr>\n",
              "      <th>4</th>\n",
              "      <td>4</td>\n",
              "      <td>trying out a new recipe for dinner tonight.  ...</td>\n",
              "      <td>neutral</td>\n",
              "      <td>1/15/2023 19:55</td>\n",
              "      <td>ChefCook</td>\n",
              "      <td>Instagram</td>\n",
              "      <td>12</td>\n",
              "      <td>25</td>\n",
              "      <td>Australia</td>\n",
              "      <td>2023</td>\n",
              "      <td>1</td>\n",
              "      <td>15</td>\n",
              "      <td>19</td>\n",
              "      <td>Cooking</td>\n",
              "      <td>Food</td>\n",
              "    </tr>\n",
              "  </tbody>\n",
              "</table>\n",
              "</div>"
            ],
            "text/plain": [
              "   ID                                               Text Sentiment (Label)  \\\n",
              "0   0   enjoying a beautiful day at the park!        ...        positive     \n",
              "1   1   traffic was terrible this morning.           ...        negative     \n",
              "2   2   just finished an amazing workout! 💪          ...        positive     \n",
              "3   3   excited about the upcoming weekend getaway!  ...        positive     \n",
              "4   4   trying out a new recipe for dinner tonight.  ...        neutral      \n",
              "\n",
              "         Timestamp            User       Source  Retweets  Likes  \\\n",
              "0  1/15/2023 12:30   User123          Twitter          15     30   \n",
              "1   1/15/2023 8:45   CommuterX        Twitter           5     10   \n",
              "2  1/15/2023 15:45   FitnessFan      Instagram         20     40   \n",
              "3  1/15/2023 18:20   AdventureX       Facebook          8     15   \n",
              "4  1/15/2023 19:55   ChefCook        Instagram         12     25   \n",
              "\n",
              "        Country  Year  Month  Day  Hour   Topic1     Topic2  \n",
              "0     USA        2023      1   15    12   Nature       Park  \n",
              "1     Canada     2023      1   15     8  Traffic    Morning  \n",
              "2   USA          2023      1   15    15  Fitness    Workout  \n",
              "3     UK         2023      1   15    18   Travel  Adventure  \n",
              "4    Australia   2023      1   15    19  Cooking       Food  "
            ]
          },
          "execution_count": 149,
          "metadata": {},
          "output_type": "execute_result"
        }
      ],
      "source": [
        "dataset.head()"
      ]
    },
    {
      "cell_type": "markdown",
      "metadata": {
        "id": "BQn-J3cbzyLl"
      },
      "source": [
        "removing all unnecessary columns from the dataset"
      ]
    },
    {
      "cell_type": "code",
      "execution_count": 150,
      "metadata": {
        "id": "-4XVtr6tzx6X"
      },
      "outputs": [],
      "source": [
        "columns_to_drop = ['Timestamp', 'User','Retweets','Likes','Country','Year','Month','Day','Hour','Source','Topic1','Topic2']\n",
        "dataset.drop(columns=columns_to_drop, inplace=True)\n"
      ]
    },
    {
      "cell_type": "code",
      "execution_count": 151,
      "metadata": {
        "colab": {
          "base_uri": "https://localhost:8080/",
          "height": 206
        },
        "id": "fIQ3vcSj0rqz",
        "outputId": "7de4574c-c844-4af3-ccd8-6d5a51d819de"
      },
      "outputs": [
        {
          "data": {
            "text/html": [
              "<div>\n",
              "<style scoped>\n",
              "    .dataframe tbody tr th:only-of-type {\n",
              "        vertical-align: middle;\n",
              "    }\n",
              "\n",
              "    .dataframe tbody tr th {\n",
              "        vertical-align: top;\n",
              "    }\n",
              "\n",
              "    .dataframe thead th {\n",
              "        text-align: right;\n",
              "    }\n",
              "</style>\n",
              "<table border=\"1\" class=\"dataframe\">\n",
              "  <thead>\n",
              "    <tr style=\"text-align: right;\">\n",
              "      <th></th>\n",
              "      <th>ID</th>\n",
              "      <th>Text</th>\n",
              "      <th>Sentiment (Label)</th>\n",
              "    </tr>\n",
              "  </thead>\n",
              "  <tbody>\n",
              "    <tr>\n",
              "      <th>0</th>\n",
              "      <td>0</td>\n",
              "      <td>enjoying a beautiful day at the park!        ...</td>\n",
              "      <td>positive</td>\n",
              "    </tr>\n",
              "    <tr>\n",
              "      <th>1</th>\n",
              "      <td>1</td>\n",
              "      <td>traffic was terrible this morning.           ...</td>\n",
              "      <td>negative</td>\n",
              "    </tr>\n",
              "    <tr>\n",
              "      <th>2</th>\n",
              "      <td>2</td>\n",
              "      <td>just finished an amazing workout! 💪          ...</td>\n",
              "      <td>positive</td>\n",
              "    </tr>\n",
              "    <tr>\n",
              "      <th>3</th>\n",
              "      <td>3</td>\n",
              "      <td>excited about the upcoming weekend getaway!  ...</td>\n",
              "      <td>positive</td>\n",
              "    </tr>\n",
              "    <tr>\n",
              "      <th>4</th>\n",
              "      <td>4</td>\n",
              "      <td>trying out a new recipe for dinner tonight.  ...</td>\n",
              "      <td>neutral</td>\n",
              "    </tr>\n",
              "  </tbody>\n",
              "</table>\n",
              "</div>"
            ],
            "text/plain": [
              "   ID                                               Text Sentiment (Label)\n",
              "0   0   enjoying a beautiful day at the park!        ...        positive  \n",
              "1   1   traffic was terrible this morning.           ...        negative  \n",
              "2   2   just finished an amazing workout! 💪          ...        positive  \n",
              "3   3   excited about the upcoming weekend getaway!  ...        positive  \n",
              "4   4   trying out a new recipe for dinner tonight.  ...        neutral   "
            ]
          },
          "execution_count": 151,
          "metadata": {},
          "output_type": "execute_result"
        }
      ],
      "source": [
        "dataset.head()"
      ]
    },
    {
      "cell_type": "markdown",
      "metadata": {
        "id": "fRQk6McX_AO1"
      },
      "source": [
        "###Removing punctuation"
      ]
    },
    {
      "cell_type": "code",
      "execution_count": 152,
      "metadata": {
        "id": "QhKnos309gg5"
      },
      "outputs": [],
      "source": [
        "def remove_punctuation(text):\n",
        "    # Define a translation table to remove punctuation\n",
        "    translator = str.maketrans('', '', string.punctuation)\n",
        "    # Apply the translation table to remove punctuation\n",
        "    return text.translate(translator)\n",
        "\n",
        "# Apply the function to the specific column\n",
        "dataset['Text'] = dataset['Text'].apply(remove_punctuation)"
      ]
    },
    {
      "cell_type": "code",
      "execution_count": 153,
      "metadata": {
        "colab": {
          "base_uri": "https://localhost:8080/",
          "height": 206
        },
        "id": "cuovgAjR58Wt",
        "outputId": "409da010-fef3-4428-908f-7e17c1cd77eb"
      },
      "outputs": [
        {
          "data": {
            "text/html": [
              "<div>\n",
              "<style scoped>\n",
              "    .dataframe tbody tr th:only-of-type {\n",
              "        vertical-align: middle;\n",
              "    }\n",
              "\n",
              "    .dataframe tbody tr th {\n",
              "        vertical-align: top;\n",
              "    }\n",
              "\n",
              "    .dataframe thead th {\n",
              "        text-align: right;\n",
              "    }\n",
              "</style>\n",
              "<table border=\"1\" class=\"dataframe\">\n",
              "  <thead>\n",
              "    <tr style=\"text-align: right;\">\n",
              "      <th></th>\n",
              "      <th>ID</th>\n",
              "      <th>Text</th>\n",
              "      <th>Sentiment (Label)</th>\n",
              "    </tr>\n",
              "  </thead>\n",
              "  <tbody>\n",
              "    <tr>\n",
              "      <th>0</th>\n",
              "      <td>0</td>\n",
              "      <td>enjoying a beautiful day at the park         ...</td>\n",
              "      <td>positive</td>\n",
              "    </tr>\n",
              "    <tr>\n",
              "      <th>1</th>\n",
              "      <td>1</td>\n",
              "      <td>traffic was terrible this morning            ...</td>\n",
              "      <td>negative</td>\n",
              "    </tr>\n",
              "    <tr>\n",
              "      <th>2</th>\n",
              "      <td>2</td>\n",
              "      <td>just finished an amazing workout 💪           ...</td>\n",
              "      <td>positive</td>\n",
              "    </tr>\n",
              "    <tr>\n",
              "      <th>3</th>\n",
              "      <td>3</td>\n",
              "      <td>excited about the upcoming weekend getaway   ...</td>\n",
              "      <td>positive</td>\n",
              "    </tr>\n",
              "    <tr>\n",
              "      <th>4</th>\n",
              "      <td>4</td>\n",
              "      <td>trying out a new recipe for dinner tonight   ...</td>\n",
              "      <td>neutral</td>\n",
              "    </tr>\n",
              "  </tbody>\n",
              "</table>\n",
              "</div>"
            ],
            "text/plain": [
              "   ID                                               Text Sentiment (Label)\n",
              "0   0   enjoying a beautiful day at the park         ...        positive  \n",
              "1   1   traffic was terrible this morning            ...        negative  \n",
              "2   2   just finished an amazing workout 💪           ...        positive  \n",
              "3   3   excited about the upcoming weekend getaway   ...        positive  \n",
              "4   4   trying out a new recipe for dinner tonight   ...        neutral   "
            ]
          },
          "execution_count": 153,
          "metadata": {},
          "output_type": "execute_result"
        }
      ],
      "source": [
        "dataset.head()"
      ]
    },
    {
      "cell_type": "markdown",
      "metadata": {
        "id": "jkltpOZX_sqb"
      },
      "source": [
        "###Removing emojis"
      ]
    },
    {
      "cell_type": "code",
      "execution_count": 154,
      "metadata": {
        "id": "-MnCkMVv_ysf"
      },
      "outputs": [],
      "source": [
        "def remove_emojis(Text):\n",
        "    emoji_pattern = re.compile(\"[\"\n",
        "                               u\"\\U0001F600-\\U0001F64F\"  # emoticons\n",
        "                               u\"\\U0001F300-\\U0001F5FF\"  # symbols & pictographs\n",
        "                               u\"\\U0001F680-\\U0001F6FF\"  # transport & map symbols\n",
        "                               u\"\\U0001F1E0-\\U0001F1FF\"  # flags (iOS)\n",
        "                               u\"\\U00002500-\\U00002BEF\"  # chinese char\n",
        "                               u\"\\U00002702-\\U000027B0\"\n",
        "                               u\"\\U00002702-\\U000027B0\"\n",
        "                               u\"\\U000024C2-\\U0001F251\"\n",
        "                               u\"\\U0001f926-\\U0001f937\"\n",
        "                               u\"\\U00010000-\\U0010ffff\"\n",
        "                               u\"\\u2640-\\u2642\"\n",
        "                               u\"\\u2600-\\u2B55\"\n",
        "                               u\"\\u200d\"\n",
        "                               u\"\\u23cf\"\n",
        "                               u\"\\u23e9\"\n",
        "                               u\"\\u231a\"\n",
        "                               u\"\\ufe0f\"  # dingbats\n",
        "                               u\"\\u3030\"\n",
        "                               \"]+\", flags=re.UNICODE)\n",
        "    return emoji_pattern.sub(r'', Text)\n",
        "\n",
        "# Apply the function to the specific column\n",
        "dataset['Text'] = dataset['Text'].apply(remove_emojis)"
      ]
    },
    {
      "cell_type": "code",
      "execution_count": 155,
      "metadata": {
        "colab": {
          "base_uri": "https://localhost:8080/",
          "height": 206
        },
        "id": "pHMCJOvPAGc3",
        "outputId": "0f29fae1-aed0-4d52-f707-08d578e8a64e"
      },
      "outputs": [
        {
          "data": {
            "text/html": [
              "<div>\n",
              "<style scoped>\n",
              "    .dataframe tbody tr th:only-of-type {\n",
              "        vertical-align: middle;\n",
              "    }\n",
              "\n",
              "    .dataframe tbody tr th {\n",
              "        vertical-align: top;\n",
              "    }\n",
              "\n",
              "    .dataframe thead th {\n",
              "        text-align: right;\n",
              "    }\n",
              "</style>\n",
              "<table border=\"1\" class=\"dataframe\">\n",
              "  <thead>\n",
              "    <tr style=\"text-align: right;\">\n",
              "      <th></th>\n",
              "      <th>ID</th>\n",
              "      <th>Text</th>\n",
              "      <th>Sentiment (Label)</th>\n",
              "    </tr>\n",
              "  </thead>\n",
              "  <tbody>\n",
              "    <tr>\n",
              "      <th>0</th>\n",
              "      <td>0</td>\n",
              "      <td>enjoying a beautiful day at the park         ...</td>\n",
              "      <td>positive</td>\n",
              "    </tr>\n",
              "    <tr>\n",
              "      <th>1</th>\n",
              "      <td>1</td>\n",
              "      <td>traffic was terrible this morning            ...</td>\n",
              "      <td>negative</td>\n",
              "    </tr>\n",
              "    <tr>\n",
              "      <th>2</th>\n",
              "      <td>2</td>\n",
              "      <td>just finished an amazing workout</td>\n",
              "      <td>positive</td>\n",
              "    </tr>\n",
              "    <tr>\n",
              "      <th>3</th>\n",
              "      <td>3</td>\n",
              "      <td>excited about the upcoming weekend getaway   ...</td>\n",
              "      <td>positive</td>\n",
              "    </tr>\n",
              "    <tr>\n",
              "      <th>4</th>\n",
              "      <td>4</td>\n",
              "      <td>trying out a new recipe for dinner tonight   ...</td>\n",
              "      <td>neutral</td>\n",
              "    </tr>\n",
              "  </tbody>\n",
              "</table>\n",
              "</div>"
            ],
            "text/plain": [
              "   ID                                               Text Sentiment (Label)\n",
              "0   0   enjoying a beautiful day at the park         ...        positive  \n",
              "1   1   traffic was terrible this morning            ...        negative  \n",
              "2   2   just finished an amazing workout                        positive  \n",
              "3   3   excited about the upcoming weekend getaway   ...        positive  \n",
              "4   4   trying out a new recipe for dinner tonight   ...        neutral   "
            ]
          },
          "execution_count": 155,
          "metadata": {},
          "output_type": "execute_result"
        }
      ],
      "source": [
        "dataset.head()"
      ]
    },
    {
      "cell_type": "markdown",
      "metadata": {
        "id": "poiG2BxVzUx9"
      },
      "source": [
        "###Removing Stop words using NLTK"
      ]
    },
    {
      "cell_type": "code",
      "execution_count": 156,
      "metadata": {
        "id": "Ici1uH0uzUPw"
      },
      "outputs": [],
      "source": [
        "import nltk\n",
        "from nltk.corpus import stopwords\n",
        "from nltk.tokenize import word_tokenize"
      ]
    },
    {
      "cell_type": "code",
      "execution_count": 157,
      "metadata": {
        "colab": {
          "base_uri": "https://localhost:8080/"
        },
        "id": "9uoSJFaN3fiY",
        "outputId": "96af7002-ac73-4506-eb8c-3131517a5d94"
      },
      "outputs": [
        {
          "name": "stderr",
          "output_type": "stream",
          "text": [
            "[nltk_data] Downloading package stopwords to\n",
            "[nltk_data]     C:\\Users\\sch2\\AppData\\Roaming\\nltk_data...\n",
            "[nltk_data]   Package stopwords is already up-to-date!\n",
            "[nltk_data] Downloading package punkt to\n",
            "[nltk_data]     C:\\Users\\sch2\\AppData\\Roaming\\nltk_data...\n",
            "[nltk_data]   Package punkt is already up-to-date!\n"
          ]
        },
        {
          "data": {
            "text/plain": [
              "True"
            ]
          },
          "execution_count": 157,
          "metadata": {},
          "output_type": "execute_result"
        }
      ],
      "source": [
        "nltk.download('stopwords') #stopwords removal\n",
        "nltk.download('punkt') #tokenization"
      ]
    },
    {
      "cell_type": "code",
      "execution_count": 158,
      "metadata": {
        "id": "mIOX2cc_Z6B0"
      },
      "outputs": [],
      "source": [
        "column_name = 'Text'\n",
        "def remove_stopwords(Text):\n",
        "    # Tokenize the Text into words\n",
        "    words = word_tokenize(Text)\n",
        "\n",
        "    # Get the list of stopwords\n",
        "    stop_words = set(stopwords.words('english'))\n",
        "\n",
        "    # Remove stopwords from the Text\n",
        "    filtered_words = [word for word in words if word.lower() not in stop_words]\n",
        "\n",
        "    # Join the filtered words back into a sentence\n",
        "    filtered_Text = ' '.join(filtered_words)\n",
        "\n",
        "    return filtered_Text"
      ]
    },
    {
      "cell_type": "code",
      "execution_count": 159,
      "metadata": {
        "id": "m4R9akSu186M"
      },
      "outputs": [],
      "source": [
        "dataset['Text'] = dataset['Text'].apply(remove_stopwords)"
      ]
    },
    {
      "cell_type": "code",
      "execution_count": 160,
      "metadata": {
        "colab": {
          "base_uri": "https://localhost:8080/",
          "height": 206
        },
        "id": "PB9crRk44ZI2",
        "outputId": "b78c9e51-94fd-4cc4-9d6b-1ee1e5745ff9"
      },
      "outputs": [
        {
          "data": {
            "text/html": [
              "<div>\n",
              "<style scoped>\n",
              "    .dataframe tbody tr th:only-of-type {\n",
              "        vertical-align: middle;\n",
              "    }\n",
              "\n",
              "    .dataframe tbody tr th {\n",
              "        vertical-align: top;\n",
              "    }\n",
              "\n",
              "    .dataframe thead th {\n",
              "        text-align: right;\n",
              "    }\n",
              "</style>\n",
              "<table border=\"1\" class=\"dataframe\">\n",
              "  <thead>\n",
              "    <tr style=\"text-align: right;\">\n",
              "      <th></th>\n",
              "      <th>ID</th>\n",
              "      <th>Text</th>\n",
              "      <th>Sentiment (Label)</th>\n",
              "    </tr>\n",
              "  </thead>\n",
              "  <tbody>\n",
              "    <tr>\n",
              "      <th>0</th>\n",
              "      <td>0</td>\n",
              "      <td>enjoying beautiful day park</td>\n",
              "      <td>positive</td>\n",
              "    </tr>\n",
              "    <tr>\n",
              "      <th>1</th>\n",
              "      <td>1</td>\n",
              "      <td>traffic terrible morning</td>\n",
              "      <td>negative</td>\n",
              "    </tr>\n",
              "    <tr>\n",
              "      <th>2</th>\n",
              "      <td>2</td>\n",
              "      <td>finished amazing workout</td>\n",
              "      <td>positive</td>\n",
              "    </tr>\n",
              "    <tr>\n",
              "      <th>3</th>\n",
              "      <td>3</td>\n",
              "      <td>excited upcoming weekend getaway</td>\n",
              "      <td>positive</td>\n",
              "    </tr>\n",
              "    <tr>\n",
              "      <th>4</th>\n",
              "      <td>4</td>\n",
              "      <td>trying new recipe dinner tonight</td>\n",
              "      <td>neutral</td>\n",
              "    </tr>\n",
              "  </tbody>\n",
              "</table>\n",
              "</div>"
            ],
            "text/plain": [
              "   ID                              Text Sentiment (Label)\n",
              "0   0       enjoying beautiful day park        positive  \n",
              "1   1          traffic terrible morning        negative  \n",
              "2   2          finished amazing workout        positive  \n",
              "3   3  excited upcoming weekend getaway        positive  \n",
              "4   4  trying new recipe dinner tonight        neutral   "
            ]
          },
          "execution_count": 160,
          "metadata": {},
          "output_type": "execute_result"
        }
      ],
      "source": [
        "dataset.head()"
      ]
    },
    {
      "cell_type": "markdown",
      "metadata": {
        "id": "eSOBgX5g1D5a"
      },
      "source": [
        "###Tokenization using NLTK"
      ]
    },
    {
      "cell_type": "code",
      "execution_count": 161,
      "metadata": {
        "id": "P4veAVszxtm1"
      },
      "outputs": [],
      "source": [
        "from nltk.tokenize import word_tokenize"
      ]
    },
    {
      "cell_type": "code",
      "execution_count": 162,
      "metadata": {
        "id": "Q7sZMP6lxy_S"
      },
      "outputs": [],
      "source": [
        "dataset['Text'] = dataset['Text'].apply(lambda x: word_tokenize(str(x)))"
      ]
    },
    {
      "cell_type": "code",
      "execution_count": 163,
      "metadata": {
        "colab": {
          "base_uri": "https://localhost:8080/",
          "height": 206
        },
        "id": "Y0rjL6tPysr5",
        "outputId": "927ee361-0f72-4972-a61e-7d6a2a029e85"
      },
      "outputs": [
        {
          "data": {
            "text/html": [
              "<div>\n",
              "<style scoped>\n",
              "    .dataframe tbody tr th:only-of-type {\n",
              "        vertical-align: middle;\n",
              "    }\n",
              "\n",
              "    .dataframe tbody tr th {\n",
              "        vertical-align: top;\n",
              "    }\n",
              "\n",
              "    .dataframe thead th {\n",
              "        text-align: right;\n",
              "    }\n",
              "</style>\n",
              "<table border=\"1\" class=\"dataframe\">\n",
              "  <thead>\n",
              "    <tr style=\"text-align: right;\">\n",
              "      <th></th>\n",
              "      <th>ID</th>\n",
              "      <th>Text</th>\n",
              "      <th>Sentiment (Label)</th>\n",
              "    </tr>\n",
              "  </thead>\n",
              "  <tbody>\n",
              "    <tr>\n",
              "      <th>0</th>\n",
              "      <td>0</td>\n",
              "      <td>[enjoying, beautiful, day, park]</td>\n",
              "      <td>positive</td>\n",
              "    </tr>\n",
              "    <tr>\n",
              "      <th>1</th>\n",
              "      <td>1</td>\n",
              "      <td>[traffic, terrible, morning]</td>\n",
              "      <td>negative</td>\n",
              "    </tr>\n",
              "    <tr>\n",
              "      <th>2</th>\n",
              "      <td>2</td>\n",
              "      <td>[finished, amazing, workout]</td>\n",
              "      <td>positive</td>\n",
              "    </tr>\n",
              "    <tr>\n",
              "      <th>3</th>\n",
              "      <td>3</td>\n",
              "      <td>[excited, upcoming, weekend, getaway]</td>\n",
              "      <td>positive</td>\n",
              "    </tr>\n",
              "    <tr>\n",
              "      <th>4</th>\n",
              "      <td>4</td>\n",
              "      <td>[trying, new, recipe, dinner, tonight]</td>\n",
              "      <td>neutral</td>\n",
              "    </tr>\n",
              "  </tbody>\n",
              "</table>\n",
              "</div>"
            ],
            "text/plain": [
              "   ID                                    Text Sentiment (Label)\n",
              "0   0        [enjoying, beautiful, day, park]        positive  \n",
              "1   1            [traffic, terrible, morning]        negative  \n",
              "2   2            [finished, amazing, workout]        positive  \n",
              "3   3   [excited, upcoming, weekend, getaway]        positive  \n",
              "4   4  [trying, new, recipe, dinner, tonight]        neutral   "
            ]
          },
          "execution_count": 163,
          "metadata": {},
          "output_type": "execute_result"
        }
      ],
      "source": [
        "dataset.head()"
      ]
    },
    {
      "cell_type": "markdown",
      "metadata": {
        "id": "xN_j9ttG66wU"
      },
      "source": [
        "###lemmatization using NLTK"
      ]
    },
    {
      "cell_type": "code",
      "execution_count": 164,
      "metadata": {
        "id": "DhZc0QrpII-w"
      },
      "outputs": [],
      "source": [
        "import nltk\n",
        "from nltk.stem import WordNetLemmatizer"
      ]
    },
    {
      "cell_type": "code",
      "execution_count": 165,
      "metadata": {
        "colab": {
          "base_uri": "https://localhost:8080/"
        },
        "id": "ptWJ3_SvIJuL",
        "outputId": "8153a5a5-049e-409f-fe19-2f02f07083f8"
      },
      "outputs": [
        {
          "name": "stderr",
          "output_type": "stream",
          "text": [
            "[nltk_data] Downloading package wordnet to\n",
            "[nltk_data]     C:\\Users\\sch2\\AppData\\Roaming\\nltk_data...\n",
            "[nltk_data]   Package wordnet is already up-to-date!\n"
          ]
        },
        {
          "data": {
            "text/plain": [
              "True"
            ]
          },
          "execution_count": 165,
          "metadata": {},
          "output_type": "execute_result"
        }
      ],
      "source": [
        "nltk.download('wordnet')"
      ]
    },
    {
      "cell_type": "code",
      "execution_count": 166,
      "metadata": {
        "id": "4YB8PFwY31qV"
      },
      "outputs": [],
      "source": [
        "lemmatizer = WordNetLemmatizer()\n",
        "\n",
        "# Define a function to lemmatize a sentence\n",
        "def lemmatize_sentence(sentence):\n",
        "    xtext=str(sentence)\n",
        "    words = nltk.word_tokenize(xtext)\n",
        "    lemmatized_words = [lemmatizer.lemmatize(word) for word in words]\n",
        "    return ' '.join(lemmatized_words)\n",
        "\n",
        "# Apply lemmatization to the desired column\n",
        "dataset['Text'] = dataset['Text'].apply(lambda x: lemmatize_sentence(x))\n"
      ]
    },
    {
      "cell_type": "code",
      "execution_count": 167,
      "metadata": {
        "colab": {
          "base_uri": "https://localhost:8080/",
          "height": 676
        },
        "id": "mPDS0b6X6PAy",
        "outputId": "6058d4eb-5bc2-4a06-9936-1d2282223da5"
      },
      "outputs": [
        {
          "data": {
            "text/html": [
              "<div>\n",
              "<style scoped>\n",
              "    .dataframe tbody tr th:only-of-type {\n",
              "        vertical-align: middle;\n",
              "    }\n",
              "\n",
              "    .dataframe tbody tr th {\n",
              "        vertical-align: top;\n",
              "    }\n",
              "\n",
              "    .dataframe thead th {\n",
              "        text-align: right;\n",
              "    }\n",
              "</style>\n",
              "<table border=\"1\" class=\"dataframe\">\n",
              "  <thead>\n",
              "    <tr style=\"text-align: right;\">\n",
              "      <th></th>\n",
              "      <th>ID</th>\n",
              "      <th>Text</th>\n",
              "      <th>Sentiment (Label)</th>\n",
              "    </tr>\n",
              "  </thead>\n",
              "  <tbody>\n",
              "    <tr>\n",
              "      <th>0</th>\n",
              "      <td>0</td>\n",
              "      <td>[ 'enjoying ' , 'beautiful ' , 'day ' , 'park ' ]</td>\n",
              "      <td>positive</td>\n",
              "    </tr>\n",
              "    <tr>\n",
              "      <th>1</th>\n",
              "      <td>1</td>\n",
              "      <td>[ 'traffic ' , 'terrible ' , 'morning ' ]</td>\n",
              "      <td>negative</td>\n",
              "    </tr>\n",
              "    <tr>\n",
              "      <th>2</th>\n",
              "      <td>2</td>\n",
              "      <td>[ 'finished ' , 'amazing ' , 'workout ' ]</td>\n",
              "      <td>positive</td>\n",
              "    </tr>\n",
              "    <tr>\n",
              "      <th>3</th>\n",
              "      <td>3</td>\n",
              "      <td>[ 'excited ' , 'upcoming ' , 'weekend ' , 'get...</td>\n",
              "      <td>positive</td>\n",
              "    </tr>\n",
              "    <tr>\n",
              "      <th>4</th>\n",
              "      <td>4</td>\n",
              "      <td>[ 'trying ' , 'new ' , 'recipe ' , 'dinner ' ,...</td>\n",
              "      <td>neutral</td>\n",
              "    </tr>\n",
              "    <tr>\n",
              "      <th>5</th>\n",
              "      <td>5</td>\n",
              "      <td>[ 'feeling ' , 'grateful ' , 'little ' , 'thin...</td>\n",
              "      <td>positive</td>\n",
              "    </tr>\n",
              "    <tr>\n",
              "      <th>6</th>\n",
              "      <td>6</td>\n",
              "      <td>[ 'rainy ' , 'days ' , 'call ' , 'cozy ' , 'bl...</td>\n",
              "      <td>positive</td>\n",
              "    </tr>\n",
              "    <tr>\n",
              "      <th>7</th>\n",
              "      <td>7</td>\n",
              "      <td>[ 'new ' , 'movie ' , 'release ' , 'mustwatch ' ]</td>\n",
              "      <td>positive</td>\n",
              "    </tr>\n",
              "    <tr>\n",
              "      <th>8</th>\n",
              "      <td>8</td>\n",
              "      <td>[ 'political ' , 'discussions ' , 'heating ' ,...</td>\n",
              "      <td>negative</td>\n",
              "    </tr>\n",
              "    <tr>\n",
              "      <th>9</th>\n",
              "      <td>9</td>\n",
              "      <td>[ 'missing ' , 'summer ' , 'vibes ' , 'beach '...</td>\n",
              "      <td>neutral</td>\n",
              "    </tr>\n",
              "    <tr>\n",
              "      <th>10</th>\n",
              "      <td>10</td>\n",
              "      <td>[ 'published ' , 'new ' , 'blog ' , 'post ' , ...</td>\n",
              "      <td>positive</td>\n",
              "    </tr>\n",
              "    <tr>\n",
              "      <th>11</th>\n",
              "      <td>11</td>\n",
              "      <td>[ 'feeling ' , 'bit ' , 'weather ' , 'today ' ]</td>\n",
              "      <td>negative</td>\n",
              "    </tr>\n",
              "    <tr>\n",
              "      <th>12</th>\n",
              "      <td>12</td>\n",
              "      <td>[ 'exploring ' , 'citys ' , 'hidden ' , 'gems ' ]</td>\n",
              "      <td>positive</td>\n",
              "    </tr>\n",
              "    <tr>\n",
              "      <th>13</th>\n",
              "      <td>13</td>\n",
              "      <td>[ 'new ' , 'year ' , 'new ' , 'fitness ' , 'go...</td>\n",
              "      <td>positive</td>\n",
              "    </tr>\n",
              "    <tr>\n",
              "      <th>14</th>\n",
              "      <td>14</td>\n",
              "      <td>[ 'technology ' , 'changing ' , 'way ' , 'live...</td>\n",
              "      <td>neutral</td>\n",
              "    </tr>\n",
              "    <tr>\n",
              "      <th>15</th>\n",
              "      <td>15</td>\n",
              "      <td>[ 'reflecting ' , 'past ' , 'looking ' , 'ahea...</td>\n",
              "      <td>positive</td>\n",
              "    </tr>\n",
              "    <tr>\n",
              "      <th>16</th>\n",
              "      <td>16</td>\n",
              "      <td>[ 'adopted ' , 'cute ' , 'furry ' , 'friend ' ]</td>\n",
              "      <td>positive</td>\n",
              "    </tr>\n",
              "    <tr>\n",
              "      <th>17</th>\n",
              "      <td>17</td>\n",
              "      <td>[ 'latenight ' , 'gaming ' , 'session ' , 'fri...</td>\n",
              "      <td>positive</td>\n",
              "    </tr>\n",
              "    <tr>\n",
              "      <th>18</th>\n",
              "      <td>18</td>\n",
              "      <td>[ 'attending ' , 'virtual ' , 'conference ' , ...</td>\n",
              "      <td>neutral</td>\n",
              "    </tr>\n",
              "    <tr>\n",
              "      <th>19</th>\n",
              "      <td>19</td>\n",
              "      <td>[ 'winter ' , 'blues ' , 'got ' , 'feeling ' ,...</td>\n",
              "      <td>negative</td>\n",
              "    </tr>\n",
              "  </tbody>\n",
              "</table>\n",
              "</div>"
            ],
            "text/plain": [
              "    ID                                               Text Sentiment (Label)\n",
              "0    0  [ 'enjoying ' , 'beautiful ' , 'day ' , 'park ' ]        positive  \n",
              "1    1          [ 'traffic ' , 'terrible ' , 'morning ' ]        negative  \n",
              "2    2          [ 'finished ' , 'amazing ' , 'workout ' ]        positive  \n",
              "3    3  [ 'excited ' , 'upcoming ' , 'weekend ' , 'get...        positive  \n",
              "4    4  [ 'trying ' , 'new ' , 'recipe ' , 'dinner ' ,...        neutral   \n",
              "5    5  [ 'feeling ' , 'grateful ' , 'little ' , 'thin...        positive  \n",
              "6    6  [ 'rainy ' , 'days ' , 'call ' , 'cozy ' , 'bl...        positive  \n",
              "7    7  [ 'new ' , 'movie ' , 'release ' , 'mustwatch ' ]        positive  \n",
              "8    8  [ 'political ' , 'discussions ' , 'heating ' ,...        negative  \n",
              "9    9  [ 'missing ' , 'summer ' , 'vibes ' , 'beach '...        neutral   \n",
              "10  10  [ 'published ' , 'new ' , 'blog ' , 'post ' , ...        positive  \n",
              "11  11    [ 'feeling ' , 'bit ' , 'weather ' , 'today ' ]        negative  \n",
              "12  12  [ 'exploring ' , 'citys ' , 'hidden ' , 'gems ' ]        positive  \n",
              "13  13  [ 'new ' , 'year ' , 'new ' , 'fitness ' , 'go...        positive  \n",
              "14  14  [ 'technology ' , 'changing ' , 'way ' , 'live...        neutral   \n",
              "15  15  [ 'reflecting ' , 'past ' , 'looking ' , 'ahea...        positive  \n",
              "16  16    [ 'adopted ' , 'cute ' , 'furry ' , 'friend ' ]        positive  \n",
              "17  17  [ 'latenight ' , 'gaming ' , 'session ' , 'fri...        positive  \n",
              "18  18  [ 'attending ' , 'virtual ' , 'conference ' , ...        neutral   \n",
              "19  19  [ 'winter ' , 'blues ' , 'got ' , 'feeling ' ,...        negative  "
            ]
          },
          "execution_count": 167,
          "metadata": {},
          "output_type": "execute_result"
        }
      ],
      "source": [
        "dataset.head(20)"
      ]
    },
    {
      "cell_type": "markdown",
      "metadata": {
        "id": "0NZrTao4cwtv"
      },
      "source": [
        "##Feature Engineering"
      ]
    },
    {
      "cell_type": "markdown",
      "metadata": {
        "id": "Iz71zFk2jFvJ"
      },
      "source": [
        "###Word Embedding"
      ]
    },
    {
      "cell_type": "markdown",
      "metadata": {
        "id": "05JabxyePH44"
      },
      "source": [
        "####Using TF-IDF"
      ]
    },
    {
      "cell_type": "code",
      "execution_count": 168,
      "metadata": {
        "id": "LCKu0nU9MtDX"
      },
      "outputs": [],
      "source": [
        "from sklearn.feature_extraction.text import TfidfVectorizer"
      ]
    },
    {
      "cell_type": "code",
      "execution_count": 169,
      "metadata": {
        "id": "xLfZYjtMMqR8"
      },
      "outputs": [],
      "source": [
        "# Assuming 'text_column' is the column containing text data\n",
        "#text_column_data = dataset['Text'].tolist()\n",
        "\n",
        "# Create TF-IDF vectorizer\n",
        "tfidf_vectorizer = TfidfVectorizer()\n",
        "\n",
        "# Fit the vectorizer to the text data and transform it into TF-IDF vectors\n",
        "tfidf_matrix = tfidf_vectorizer.fit_transform(dataset['Text'])\n",
        "\n",
        "# Store the TF-IDF matrix in a new column in the DataFrame\n",
        "dataset['Text'] = tfidf_matrix.toarray().tolist()\n"
      ]
    },
    {
      "cell_type": "code",
      "execution_count": 170,
      "metadata": {
        "colab": {
          "base_uri": "https://localhost:8080/"
        },
        "id": "ANuMvvC2k25r",
        "outputId": "b020b687-5ed9-490c-93e3-d467a66b0c42"
      },
      "outputs": [
        {
          "name": "stdout",
          "output_type": "stream",
          "text": [
            "<class 'pandas.core.frame.DataFrame'>\n",
            "RangeIndex: 732 entries, 0 to 731\n",
            "Data columns (total 3 columns):\n",
            " #   Column             Non-Null Count  Dtype \n",
            "---  ------             --------------  ----- \n",
            " 0   ID                 732 non-null    int64 \n",
            " 1   Text               732 non-null    object\n",
            " 2   Sentiment (Label)  732 non-null    object\n",
            "dtypes: int64(1), object(2)\n",
            "memory usage: 17.3+ KB\n"
          ]
        }
      ],
      "source": [
        "dataset.info()"
      ]
    },
    {
      "cell_type": "code",
      "execution_count": 171,
      "metadata": {
        "colab": {
          "base_uri": "https://localhost:8080/",
          "height": 676
        },
        "id": "icP5N21x_SGr",
        "outputId": "2c9c673b-b9d7-49e6-b5b9-6ee9fdd0daab"
      },
      "outputs": [
        {
          "data": {
            "text/html": [
              "<div>\n",
              "<style scoped>\n",
              "    .dataframe tbody tr th:only-of-type {\n",
              "        vertical-align: middle;\n",
              "    }\n",
              "\n",
              "    .dataframe tbody tr th {\n",
              "        vertical-align: top;\n",
              "    }\n",
              "\n",
              "    .dataframe thead th {\n",
              "        text-align: right;\n",
              "    }\n",
              "</style>\n",
              "<table border=\"1\" class=\"dataframe\">\n",
              "  <thead>\n",
              "    <tr style=\"text-align: right;\">\n",
              "      <th></th>\n",
              "      <th>ID</th>\n",
              "      <th>Text</th>\n",
              "      <th>Sentiment (Label)</th>\n",
              "    </tr>\n",
              "  </thead>\n",
              "  <tbody>\n",
              "    <tr>\n",
              "      <th>0</th>\n",
              "      <td>0</td>\n",
              "      <td>[0.0, 0.0, 0.0, 0.0, 0.0, 0.0, 0.0, 0.0, 0.0, ...</td>\n",
              "      <td>positive</td>\n",
              "    </tr>\n",
              "    <tr>\n",
              "      <th>1</th>\n",
              "      <td>1</td>\n",
              "      <td>[0.0, 0.0, 0.0, 0.0, 0.0, 0.0, 0.0, 0.0, 0.0, ...</td>\n",
              "      <td>negative</td>\n",
              "    </tr>\n",
              "    <tr>\n",
              "      <th>2</th>\n",
              "      <td>2</td>\n",
              "      <td>[0.0, 0.0, 0.0, 0.0, 0.0, 0.0, 0.0, 0.0, 0.0, ...</td>\n",
              "      <td>positive</td>\n",
              "    </tr>\n",
              "    <tr>\n",
              "      <th>3</th>\n",
              "      <td>3</td>\n",
              "      <td>[0.0, 0.0, 0.0, 0.0, 0.0, 0.0, 0.0, 0.0, 0.0, ...</td>\n",
              "      <td>positive</td>\n",
              "    </tr>\n",
              "    <tr>\n",
              "      <th>4</th>\n",
              "      <td>4</td>\n",
              "      <td>[0.0, 0.0, 0.0, 0.0, 0.0, 0.0, 0.0, 0.0, 0.0, ...</td>\n",
              "      <td>neutral</td>\n",
              "    </tr>\n",
              "    <tr>\n",
              "      <th>5</th>\n",
              "      <td>5</td>\n",
              "      <td>[0.0, 0.0, 0.0, 0.0, 0.0, 0.0, 0.0, 0.0, 0.0, ...</td>\n",
              "      <td>positive</td>\n",
              "    </tr>\n",
              "    <tr>\n",
              "      <th>6</th>\n",
              "      <td>6</td>\n",
              "      <td>[0.0, 0.0, 0.0, 0.0, 0.0, 0.0, 0.0, 0.0, 0.0, ...</td>\n",
              "      <td>positive</td>\n",
              "    </tr>\n",
              "    <tr>\n",
              "      <th>7</th>\n",
              "      <td>7</td>\n",
              "      <td>[0.0, 0.0, 0.0, 0.0, 0.0, 0.0, 0.0, 0.0, 0.0, ...</td>\n",
              "      <td>positive</td>\n",
              "    </tr>\n",
              "    <tr>\n",
              "      <th>8</th>\n",
              "      <td>8</td>\n",
              "      <td>[0.0, 0.0, 0.0, 0.0, 0.0, 0.0, 0.0, 0.0, 0.0, ...</td>\n",
              "      <td>negative</td>\n",
              "    </tr>\n",
              "    <tr>\n",
              "      <th>9</th>\n",
              "      <td>9</td>\n",
              "      <td>[0.0, 0.0, 0.0, 0.0, 0.0, 0.0, 0.0, 0.0, 0.0, ...</td>\n",
              "      <td>neutral</td>\n",
              "    </tr>\n",
              "    <tr>\n",
              "      <th>10</th>\n",
              "      <td>10</td>\n",
              "      <td>[0.0, 0.0, 0.0, 0.0, 0.0, 0.0, 0.0, 0.0, 0.0, ...</td>\n",
              "      <td>positive</td>\n",
              "    </tr>\n",
              "    <tr>\n",
              "      <th>11</th>\n",
              "      <td>11</td>\n",
              "      <td>[0.0, 0.0, 0.0, 0.0, 0.0, 0.0, 0.0, 0.0, 0.0, ...</td>\n",
              "      <td>negative</td>\n",
              "    </tr>\n",
              "    <tr>\n",
              "      <th>12</th>\n",
              "      <td>12</td>\n",
              "      <td>[0.0, 0.0, 0.0, 0.0, 0.0, 0.0, 0.0, 0.0, 0.0, ...</td>\n",
              "      <td>positive</td>\n",
              "    </tr>\n",
              "    <tr>\n",
              "      <th>13</th>\n",
              "      <td>13</td>\n",
              "      <td>[0.0, 0.0, 0.0, 0.0, 0.0, 0.0, 0.0, 0.0, 0.0, ...</td>\n",
              "      <td>positive</td>\n",
              "    </tr>\n",
              "    <tr>\n",
              "      <th>14</th>\n",
              "      <td>14</td>\n",
              "      <td>[0.0, 0.0, 0.0, 0.0, 0.0, 0.0, 0.0, 0.0, 0.0, ...</td>\n",
              "      <td>neutral</td>\n",
              "    </tr>\n",
              "    <tr>\n",
              "      <th>15</th>\n",
              "      <td>15</td>\n",
              "      <td>[0.0, 0.0, 0.0, 0.0, 0.0, 0.0, 0.0, 0.0, 0.0, ...</td>\n",
              "      <td>positive</td>\n",
              "    </tr>\n",
              "    <tr>\n",
              "      <th>16</th>\n",
              "      <td>16</td>\n",
              "      <td>[0.0, 0.0, 0.0, 0.0, 0.0, 0.0, 0.0, 0.0, 0.0, ...</td>\n",
              "      <td>positive</td>\n",
              "    </tr>\n",
              "    <tr>\n",
              "      <th>17</th>\n",
              "      <td>17</td>\n",
              "      <td>[0.0, 0.0, 0.0, 0.0, 0.0, 0.0, 0.0, 0.0, 0.0, ...</td>\n",
              "      <td>positive</td>\n",
              "    </tr>\n",
              "    <tr>\n",
              "      <th>18</th>\n",
              "      <td>18</td>\n",
              "      <td>[0.0, 0.0, 0.0, 0.0, 0.0, 0.0, 0.0, 0.0, 0.0, ...</td>\n",
              "      <td>neutral</td>\n",
              "    </tr>\n",
              "    <tr>\n",
              "      <th>19</th>\n",
              "      <td>19</td>\n",
              "      <td>[0.0, 0.0, 0.0, 0.0, 0.0, 0.0, 0.0, 0.0, 0.0, ...</td>\n",
              "      <td>negative</td>\n",
              "    </tr>\n",
              "  </tbody>\n",
              "</table>\n",
              "</div>"
            ],
            "text/plain": [
              "    ID                                               Text Sentiment (Label)\n",
              "0    0  [0.0, 0.0, 0.0, 0.0, 0.0, 0.0, 0.0, 0.0, 0.0, ...        positive  \n",
              "1    1  [0.0, 0.0, 0.0, 0.0, 0.0, 0.0, 0.0, 0.0, 0.0, ...        negative  \n",
              "2    2  [0.0, 0.0, 0.0, 0.0, 0.0, 0.0, 0.0, 0.0, 0.0, ...        positive  \n",
              "3    3  [0.0, 0.0, 0.0, 0.0, 0.0, 0.0, 0.0, 0.0, 0.0, ...        positive  \n",
              "4    4  [0.0, 0.0, 0.0, 0.0, 0.0, 0.0, 0.0, 0.0, 0.0, ...        neutral   \n",
              "5    5  [0.0, 0.0, 0.0, 0.0, 0.0, 0.0, 0.0, 0.0, 0.0, ...        positive  \n",
              "6    6  [0.0, 0.0, 0.0, 0.0, 0.0, 0.0, 0.0, 0.0, 0.0, ...        positive  \n",
              "7    7  [0.0, 0.0, 0.0, 0.0, 0.0, 0.0, 0.0, 0.0, 0.0, ...        positive  \n",
              "8    8  [0.0, 0.0, 0.0, 0.0, 0.0, 0.0, 0.0, 0.0, 0.0, ...        negative  \n",
              "9    9  [0.0, 0.0, 0.0, 0.0, 0.0, 0.0, 0.0, 0.0, 0.0, ...        neutral   \n",
              "10  10  [0.0, 0.0, 0.0, 0.0, 0.0, 0.0, 0.0, 0.0, 0.0, ...        positive  \n",
              "11  11  [0.0, 0.0, 0.0, 0.0, 0.0, 0.0, 0.0, 0.0, 0.0, ...        negative  \n",
              "12  12  [0.0, 0.0, 0.0, 0.0, 0.0, 0.0, 0.0, 0.0, 0.0, ...        positive  \n",
              "13  13  [0.0, 0.0, 0.0, 0.0, 0.0, 0.0, 0.0, 0.0, 0.0, ...        positive  \n",
              "14  14  [0.0, 0.0, 0.0, 0.0, 0.0, 0.0, 0.0, 0.0, 0.0, ...        neutral   \n",
              "15  15  [0.0, 0.0, 0.0, 0.0, 0.0, 0.0, 0.0, 0.0, 0.0, ...        positive  \n",
              "16  16  [0.0, 0.0, 0.0, 0.0, 0.0, 0.0, 0.0, 0.0, 0.0, ...        positive  \n",
              "17  17  [0.0, 0.0, 0.0, 0.0, 0.0, 0.0, 0.0, 0.0, 0.0, ...        positive  \n",
              "18  18  [0.0, 0.0, 0.0, 0.0, 0.0, 0.0, 0.0, 0.0, 0.0, ...        neutral   \n",
              "19  19  [0.0, 0.0, 0.0, 0.0, 0.0, 0.0, 0.0, 0.0, 0.0, ...        negative  "
            ]
          },
          "execution_count": 171,
          "metadata": {},
          "output_type": "execute_result"
        }
      ],
      "source": [
        "dataset.head(20)"
      ]
    },
    {
      "cell_type": "code",
      "execution_count": 172,
      "metadata": {
        "colab": {
          "base_uri": "https://localhost:8080/"
        },
        "id": "iTULOAuWLbAV",
        "outputId": "897f7950-4d72-4a57-f771-22b78915f512"
      },
      "outputs": [
        {
          "data": {
            "text/plain": [
              "array([' positive  ', ' negative  ', ' neutral   ', ' anger        ',\n",
              "       ' fear         ', ' sadness      ', ' disgust      ',\n",
              "       ' happiness    ', ' joy          ', ' love         ',\n",
              "       ' amusement    ', ' enjoyment    ', ' admiration   ',\n",
              "       ' affection    ', ' awe          ', ' disappointed ',\n",
              "       ' surprise     ', ' acceptance   ', ' adoration    ',\n",
              "       ' anticipation ', ' bitter       ', ' calmness     ',\n",
              "       ' confusion    ', ' excitement   ', ' kind         ',\n",
              "       ' pride        ', ' shame        ', ' confusion ', ' excitement ',\n",
              "       ' shame ', ' elation       ', ' euphoria      ', ' contentment   ',\n",
              "       ' serenity      ', ' gratitude     ', ' hope          ',\n",
              "       ' empowerment   ', ' compassion    ', ' tenderness    ',\n",
              "       ' arousal       ', ' enthusiasm    ', ' fulfillment  ',\n",
              "       ' reverence     ', ' compassion', ' fulfillment   ', ' reverence ',\n",
              "       ' elation   ', ' despair         ', ' grief           ',\n",
              "       ' loneliness      ', ' jealousy        ', ' resentment      ',\n",
              "       ' frustration     ', ' boredom         ', ' anxiety         ',\n",
              "       ' intimidation    ', ' helplessness    ', ' envy            ',\n",
              "       ' regret         ', ' disgust         ', ' despair      ',\n",
              "       ' loneliness ', ' frustration ', ' anxiety   ', ' intimidation ',\n",
              "       ' helplessness ', ' jealousy    ', ' curiosity       ',\n",
              "       ' indifference    ', ' confusion       ', ' numbness        ',\n",
              "       ' melancholy      ', ' nostalgia       ', ' ambivalence     ',\n",
              "       ' acceptance      ', ' determination   ', ' serenity        ',\n",
              "       ' numbness ', ' zest ', ' contentment ', ' hopeful ', ' proud ',\n",
              "       ' grateful ', ' empathetic ', ' compassionate ', ' playful ',\n",
              "       ' free-spirited ', ' inspired ', ' confident ', ' serenity ',\n",
              "       ' curiosity ', ' ambivalence ', ' despair ', ' bitterness ',\n",
              "       ' yearning ', ' fearful ', ' apprehensive ', ' overwhelmed ',\n",
              "       ' jealous ', ' devastated ', ' frustrated ', ' envious ',\n",
              "       ' dismissive ', ' awe           ', ' determination ',\n",
              "       ' nostalgia      ', ' thrill        ', ' calmness      ',\n",
              "       ' overwhelmed   ', ' gratitude   ', ' bittersweet ',\n",
              "       ' curiosity     ', ' admiration    ', ' overjoyed     ',\n",
              "       ' inspiration   ', ' motivation    ', ' amusement     ',\n",
              "       ' contemplation ', ' joyfulreunion ', ' excitement    ',\n",
              "       ' satisfaction  ', ' blessed       ', ' anticipation  ',\n",
              "       ' reflection    ', ' nostalgia     ', ' appreciation  ',\n",
              "       ' confidence    ', ' surprise      ', ' accomplishment ',\n",
              "       ' wonderment    ', ' optimism      ', ' pride         ',\n",
              "       ' happiness     ', ' curiosity   ', ' enchantment   ',\n",
              "       ' intrigue      ', ' playfuljoy    ', ' mindfulness   ',\n",
              "       ' dreamchaser   ', ' elegance ', ' whimsy        ', ' pensive ',\n",
              "       ' thrill      ', ' harmony    ', ' creativity   ', ' radiance    ',\n",
              "       ' wonder     ', ' rejuvenation ', ' inspiration ',\n",
              "       ' coziness     ', ' gratitude  ', ' adventure ', ' euphoria   ',\n",
              "       ' awe    ', ' melodic       ', ' festivejoy    ',\n",
              "       ' innerjourney  ', ' freedom       ', ' dazzle        ',\n",
              "       ' adrenaline     ', ' harmony       ', ' artisticburst ',\n",
              "       ' radiance      ', ' wonder       ', ' inspiration  ',\n",
              "       ' culinaryodyssey ', ' euphoria     ', ' curiosity  ',\n",
              "       ' resilience   ', ' immersion ', ' nostalgia ', ' spark        ',\n",
              "       ' gratitude    ', ' marvel       ', ' serenity   ',\n",
              "       ' heartbreak    ', ' loneliness    ', ' grief      ',\n",
              "       ' despair   ', ' betrayal      ', ' suffering ',\n",
              "       ' emotionalstorm ', ' regret        ', ' isolation ',\n",
              "       ' disappointment ', ' lostlove ', ' melancholy ', ' exhaustion ',\n",
              "       ' sorrow      ', ' darkness     ', ' desperation ', ' ruins      ',\n",
              "       ' desolation ', ' regret ', ' grief ', ' heartbreak ',\n",
              "       ' betrayal ', ' resilience ', ' sorrow ', ' loss ', ' heartache ',\n",
              "       ' solitude ', ' joy ', ' happiness ', ' enthusiasm ',\n",
              "       ' gratitude ', ' positivity ', ' kindness ', ' friendship ',\n",
              "       ' love ', ' surprise ', ' success ', ' thrill ', ' reflection ',\n",
              "       ' enchantment ', ' exploration ', ' awe ', ' amazement ',\n",
              "       ' romance ', ' captivation ', ' wonder ', ' tranquility ',\n",
              "       ' grandeur ', ' emotion ', ' energy ', ' celebration ', ' charm ',\n",
              "       ' ecstasy ', ' hope ', ' creativity ', ' colorful ', ' pride ',\n",
              "       ' hypnotic ', ' connection ', ' iconic ', ' euphoria ',\n",
              "       ' journey ', ' engagement ', ' touched ', ' suspense ',\n",
              "       ' satisfaction ', ' admiration ', ' triumph ', ' heartwarming ',\n",
              "       ' obstacle ', ' sympathy ', ' pressure ', ' renewed effort ',\n",
              "       ' miscalculation ', ' challenge ', ' solace ', ' breakthrough ',\n",
              "       ' harmony ', ' joy in baking ', ' envisioning history ',\n",
              "       ' imagination ', ' vibrancy ', ' mesmerizing ',\n",
              "       ' culinary adventure ', ' winter magic ', ' thrilling journey ',\n",
              "       \" nature's beauty \", ' celestial wonder ',\n",
              "       ' creative inspiration ', ' runway creativity ',\n",
              "       \" ocean's freedom \", ' whispers of the past ', ' boredom ',\n",
              "       ' indifference ', ' disgust ', ' relief ', ' positive ',\n",
              "       ' embarrassed ', ' mischievous ', ' sad ', ' hate ', ' bad ',\n",
              "       ' neutral ', ' happy '], dtype=object)"
            ]
          },
          "execution_count": 172,
          "metadata": {},
          "output_type": "execute_result"
        }
      ],
      "source": [
        "dataset['Sentiment (Label)'].unique()"
      ]
    },
    {
      "cell_type": "code",
      "execution_count": 173,
      "metadata": {
        "colab": {
          "base_uri": "https://localhost:8080/"
        },
        "id": "Q7BCfSWl-_Vw",
        "outputId": "2dd4ad45-2176-4995-b51c-c575e14773ed"
      },
      "outputs": [
        {
          "data": {
            "text/plain": [
              "(732,)"
            ]
          },
          "execution_count": 173,
          "metadata": {},
          "output_type": "execute_result"
        }
      ],
      "source": [
        "dataset['Text'].shape"
      ]
    },
    {
      "cell_type": "markdown",
      "metadata": {
        "id": "RkQRWIzxT7XT"
      },
      "source": [
        "###converting any emotion into positive negative and neutral"
      ]
    },
    {
      "cell_type": "markdown",
      "metadata": {
        "id": "VSAtdEBoUJKp"
      },
      "source": [
        "####TextBlob Method"
      ]
    },
    {
      "cell_type": "code",
      "execution_count": 174,
      "metadata": {
        "id": "T7D0XulrrEuJ"
      },
      "outputs": [],
      "source": [
        "from textblob import TextBlob\n",
        "\n",
        "# Assuming 'text_column' is the name of the column containing text data\n",
        "sentiment_labels = []\n",
        "for text in dataset['Sentiment (Label)']:\n",
        "    analysis = TextBlob(text)\n",
        "    if analysis.sentiment.polarity > 0:\n",
        "        sentiment_labels.append(\"positive\")\n",
        "    elif analysis.sentiment.polarity < 0:\n",
        "        sentiment_labels.append(\"negative\")\n",
        "    else:\n",
        "        sentiment_labels.append(\"neutral\")\n",
        "\n",
        "dataset['Sentiment (Label)'] = sentiment_labels"
      ]
    },
    {
      "cell_type": "markdown",
      "metadata": {
        "id": "3uN09RfYiA3Q"
      },
      "source": [
        "###Pie chart for the percentage of sentiment"
      ]
    },
    {
      "cell_type": "code",
      "execution_count": 175,
      "metadata": {
        "colab": {
          "base_uri": "https://localhost:8080/",
          "height": 428
        },
        "id": "qrAvSZ7BOE92",
        "outputId": "841eb273-b9f1-45d2-a247-4c086a64857e"
      },
      "outputs": [
        {
          "data": {
            "image/png": "[encoded data removed]",
            "text/plain": [
              "<Figure size 640x480 with 1 Axes>"
            ]
          },
          "metadata": {},
          "output_type": "display_data"
        }
      ],
      "source": [
        "column_name = 'Sentiment (Label)'\n",
        "column_values = dataset[column_name]\n",
        "\n",
        "positive_count = (column_values == 'positive').sum()\n",
        "negative_count = (column_values == 'negative').sum()\n",
        "neutral_count = (column_values == 'neutral').sum()\n",
        "\n",
        "# Create a pie chart\n",
        "labels = ['Positive', 'Negative', 'Neutral']\n",
        "sizes = [positive_count, negative_count, neutral_count]\n",
        "colors = ['lightgreen', 'lightcoral', 'lightskyblue']\n",
        "explode = (0.1, 0, 0)  # explode the 1st slice (Positive)\n",
        "plt.pie(sizes, explode=explode, labels=labels, colors=colors, autopct='%1.1f%%', shadow=True, startangle=140)\n",
        "plt.axis('equal')  # Equal aspect ratio ensures that pie is drawn as a circle.\n",
        "\n",
        "# Add a title\n",
        "plt.title('Sentiment Distribution in {}'.format(column_name))\n",
        "\n",
        "# Show the plot\n",
        "plt.show()"
      ]
    },
    {
      "cell_type": "code",
      "execution_count": 176,
      "metadata": {
        "id": "OiWmn71Ab4jG"
      },
      "outputs": [],
      "source": [
        "x = dataset['Text'] # Features\n",
        "y = dataset['Sentiment (Label)']  # Target variable"
      ]
    },
    {
      "cell_type": "code",
      "execution_count": 177,
      "metadata": {
        "colab": {
          "base_uri": "https://localhost:8080/"
        },
        "id": "sS33LfnXr_kQ",
        "outputId": "171e37e9-ec4e-41e3-bcbd-1eb37132e57f"
      },
      "outputs": [
        {
          "data": {
            "text/plain": [
              "(732, 3)"
            ]
          },
          "execution_count": 177,
          "metadata": {},
          "output_type": "execute_result"
        }
      ],
      "source": [
        "dataset.shape"
      ]
    },
    {
      "cell_type": "markdown",
      "metadata": {
        "id": "w1RYOWl2iNEX"
      },
      "source": [
        "###upsampling"
      ]
    },
    {
      "cell_type": "code",
      "execution_count": 178,
      "metadata": {
        "colab": {
          "base_uri": "https://localhost:8080/"
        },
        "id": "332voPaimJC_",
        "outputId": "9e5ec1ae-d31c-403b-b8f3-d2ee0af569cb"
      },
      "outputs": [
        {
          "name": "stderr",
          "output_type": "stream",
          "text": [
            "c:\\Users\\sch2\\anaconda5\\lib\\site-packages\\imblearn\\utils\\_validation.py:313: UserWarning: After over-sampling, the number of samples (500) in class negative will be larger than the number of samples in the majority class (class #positive -> 129)\n",
            "  warnings.warn(\n",
            "c:\\Users\\sch2\\anaconda5\\lib\\site-packages\\imblearn\\utils\\_validation.py:313: UserWarning: After over-sampling, the number of samples (500) in class positive will be larger than the number of samples in the majority class (class #positive -> 129)\n",
            "  warnings.warn(\n"
          ]
        }
      ],
      "source": [
        "from imblearn.over_sampling import RandomOverSampler\n",
        "import numpy as np\n",
        "import pandas as pd\n",
        "\n",
        "# Assuming you have a DataFrame x containing your features and a Series y containing your labels\n",
        "\n",
        "minority_classes = ['negative', 'positive']  # Replace with the specific class labels you want to upsample\n",
        "\n",
        "# Filter the dataset to only include the minority classes\n",
        "X_minority = x[y.isin(minority_classes)]\n",
        "y_minority = y[y.isin(minority_classes)]\n",
        "\n",
        "# Reshape the features if they are 1D\n",
        "if len(X_minority.shape) == 1:\n",
        "    X_minority = X_minority.values.reshape(-1, 1)\n",
        "\n",
        "# Initialize the RandomOverSampler\n",
        "ros = RandomOverSampler(sampling_strategy={'negative': 500, 'positive': 500}, random_state=42)\n",
        "\n",
        "\n",
        "# Resample the minority classes\n",
        "X_minority_resampled, y_minority_resampled = ros.fit_resample(X_minority, y_minority)\n",
        "\n",
        "#creating another dataset called data\n",
        "data = pd.DataFrame({})\n",
        "# Combine the upsampled minority samples with the majority class samples\n",
        "data['Text'] = pd.concat([x, pd.DataFrame(X_minority_resampled)], axis=0)\n",
        "data['Sentiment'] = pd.concat([y, pd.Series(y_minority_resampled)], axis=0)\n"
      ]
    },
    {
      "cell_type": "code",
      "execution_count": 179,
      "metadata": {
        "colab": {
          "base_uri": "https://localhost:8080/",
          "height": 676
        },
        "id": "5Mxo0VQzrs6l",
        "outputId": "daab6ed7-3788-4bd7-90bb-9221a78a0538"
      },
      "outputs": [
        {
          "data": {
            "text/html": [
              "<div>\n",
              "<style scoped>\n",
              "    .dataframe tbody tr th:only-of-type {\n",
              "        vertical-align: middle;\n",
              "    }\n",
              "\n",
              "    .dataframe tbody tr th {\n",
              "        vertical-align: top;\n",
              "    }\n",
              "\n",
              "    .dataframe thead th {\n",
              "        text-align: right;\n",
              "    }\n",
              "</style>\n",
              "<table border=\"1\" class=\"dataframe\">\n",
              "  <thead>\n",
              "    <tr style=\"text-align: right;\">\n",
              "      <th></th>\n",
              "      <th>Text</th>\n",
              "      <th>Sentiment</th>\n",
              "    </tr>\n",
              "  </thead>\n",
              "  <tbody>\n",
              "    <tr>\n",
              "      <th>0</th>\n",
              "      <td>[0.0, 0.0, 0.0, 0.0, 0.0, 0.0, 0.0, 0.0, 0.0, ...</td>\n",
              "      <td>positive</td>\n",
              "    </tr>\n",
              "    <tr>\n",
              "      <th>1</th>\n",
              "      <td>[0.0, 0.0, 0.0, 0.0, 0.0, 0.0, 0.0, 0.0, 0.0, ...</td>\n",
              "      <td>negative</td>\n",
              "    </tr>\n",
              "    <tr>\n",
              "      <th>2</th>\n",
              "      <td>[0.0, 0.0, 0.0, 0.0, 0.0, 0.0, 0.0, 0.0, 0.0, ...</td>\n",
              "      <td>positive</td>\n",
              "    </tr>\n",
              "    <tr>\n",
              "      <th>3</th>\n",
              "      <td>[0.0, 0.0, 0.0, 0.0, 0.0, 0.0, 0.0, 0.0, 0.0, ...</td>\n",
              "      <td>positive</td>\n",
              "    </tr>\n",
              "    <tr>\n",
              "      <th>4</th>\n",
              "      <td>[0.0, 0.0, 0.0, 0.0, 0.0, 0.0, 0.0, 0.0, 0.0, ...</td>\n",
              "      <td>neutral</td>\n",
              "    </tr>\n",
              "    <tr>\n",
              "      <th>5</th>\n",
              "      <td>[0.0, 0.0, 0.0, 0.0, 0.0, 0.0, 0.0, 0.0, 0.0, ...</td>\n",
              "      <td>positive</td>\n",
              "    </tr>\n",
              "    <tr>\n",
              "      <th>6</th>\n",
              "      <td>[0.0, 0.0, 0.0, 0.0, 0.0, 0.0, 0.0, 0.0, 0.0, ...</td>\n",
              "      <td>positive</td>\n",
              "    </tr>\n",
              "    <tr>\n",
              "      <th>7</th>\n",
              "      <td>[0.0, 0.0, 0.0, 0.0, 0.0, 0.0, 0.0, 0.0, 0.0, ...</td>\n",
              "      <td>positive</td>\n",
              "    </tr>\n",
              "    <tr>\n",
              "      <th>8</th>\n",
              "      <td>[0.0, 0.0, 0.0, 0.0, 0.0, 0.0, 0.0, 0.0, 0.0, ...</td>\n",
              "      <td>negative</td>\n",
              "    </tr>\n",
              "    <tr>\n",
              "      <th>9</th>\n",
              "      <td>[0.0, 0.0, 0.0, 0.0, 0.0, 0.0, 0.0, 0.0, 0.0, ...</td>\n",
              "      <td>neutral</td>\n",
              "    </tr>\n",
              "    <tr>\n",
              "      <th>10</th>\n",
              "      <td>[0.0, 0.0, 0.0, 0.0, 0.0, 0.0, 0.0, 0.0, 0.0, ...</td>\n",
              "      <td>positive</td>\n",
              "    </tr>\n",
              "    <tr>\n",
              "      <th>11</th>\n",
              "      <td>[0.0, 0.0, 0.0, 0.0, 0.0, 0.0, 0.0, 0.0, 0.0, ...</td>\n",
              "      <td>negative</td>\n",
              "    </tr>\n",
              "    <tr>\n",
              "      <th>12</th>\n",
              "      <td>[0.0, 0.0, 0.0, 0.0, 0.0, 0.0, 0.0, 0.0, 0.0, ...</td>\n",
              "      <td>positive</td>\n",
              "    </tr>\n",
              "    <tr>\n",
              "      <th>13</th>\n",
              "      <td>[0.0, 0.0, 0.0, 0.0, 0.0, 0.0, 0.0, 0.0, 0.0, ...</td>\n",
              "      <td>positive</td>\n",
              "    </tr>\n",
              "    <tr>\n",
              "      <th>14</th>\n",
              "      <td>[0.0, 0.0, 0.0, 0.0, 0.0, 0.0, 0.0, 0.0, 0.0, ...</td>\n",
              "      <td>neutral</td>\n",
              "    </tr>\n",
              "    <tr>\n",
              "      <th>15</th>\n",
              "      <td>[0.0, 0.0, 0.0, 0.0, 0.0, 0.0, 0.0, 0.0, 0.0, ...</td>\n",
              "      <td>positive</td>\n",
              "    </tr>\n",
              "    <tr>\n",
              "      <th>16</th>\n",
              "      <td>[0.0, 0.0, 0.0, 0.0, 0.0, 0.0, 0.0, 0.0, 0.0, ...</td>\n",
              "      <td>positive</td>\n",
              "    </tr>\n",
              "    <tr>\n",
              "      <th>17</th>\n",
              "      <td>[0.0, 0.0, 0.0, 0.0, 0.0, 0.0, 0.0, 0.0, 0.0, ...</td>\n",
              "      <td>positive</td>\n",
              "    </tr>\n",
              "    <tr>\n",
              "      <th>18</th>\n",
              "      <td>[0.0, 0.0, 0.0, 0.0, 0.0, 0.0, 0.0, 0.0, 0.0, ...</td>\n",
              "      <td>neutral</td>\n",
              "    </tr>\n",
              "    <tr>\n",
              "      <th>19</th>\n",
              "      <td>[0.0, 0.0, 0.0, 0.0, 0.0, 0.0, 0.0, 0.0, 0.0, ...</td>\n",
              "      <td>negative</td>\n",
              "    </tr>\n",
              "  </tbody>\n",
              "</table>\n",
              "</div>"
            ],
            "text/plain": [
              "                                                 Text Sentiment\n",
              "0   [0.0, 0.0, 0.0, 0.0, 0.0, 0.0, 0.0, 0.0, 0.0, ...  positive\n",
              "1   [0.0, 0.0, 0.0, 0.0, 0.0, 0.0, 0.0, 0.0, 0.0, ...  negative\n",
              "2   [0.0, 0.0, 0.0, 0.0, 0.0, 0.0, 0.0, 0.0, 0.0, ...  positive\n",
              "3   [0.0, 0.0, 0.0, 0.0, 0.0, 0.0, 0.0, 0.0, 0.0, ...  positive\n",
              "4   [0.0, 0.0, 0.0, 0.0, 0.0, 0.0, 0.0, 0.0, 0.0, ...   neutral\n",
              "5   [0.0, 0.0, 0.0, 0.0, 0.0, 0.0, 0.0, 0.0, 0.0, ...  positive\n",
              "6   [0.0, 0.0, 0.0, 0.0, 0.0, 0.0, 0.0, 0.0, 0.0, ...  positive\n",
              "7   [0.0, 0.0, 0.0, 0.0, 0.0, 0.0, 0.0, 0.0, 0.0, ...  positive\n",
              "8   [0.0, 0.0, 0.0, 0.0, 0.0, 0.0, 0.0, 0.0, 0.0, ...  negative\n",
              "9   [0.0, 0.0, 0.0, 0.0, 0.0, 0.0, 0.0, 0.0, 0.0, ...   neutral\n",
              "10  [0.0, 0.0, 0.0, 0.0, 0.0, 0.0, 0.0, 0.0, 0.0, ...  positive\n",
              "11  [0.0, 0.0, 0.0, 0.0, 0.0, 0.0, 0.0, 0.0, 0.0, ...  negative\n",
              "12  [0.0, 0.0, 0.0, 0.0, 0.0, 0.0, 0.0, 0.0, 0.0, ...  positive\n",
              "13  [0.0, 0.0, 0.0, 0.0, 0.0, 0.0, 0.0, 0.0, 0.0, ...  positive\n",
              "14  [0.0, 0.0, 0.0, 0.0, 0.0, 0.0, 0.0, 0.0, 0.0, ...   neutral\n",
              "15  [0.0, 0.0, 0.0, 0.0, 0.0, 0.0, 0.0, 0.0, 0.0, ...  positive\n",
              "16  [0.0, 0.0, 0.0, 0.0, 0.0, 0.0, 0.0, 0.0, 0.0, ...  positive\n",
              "17  [0.0, 0.0, 0.0, 0.0, 0.0, 0.0, 0.0, 0.0, 0.0, ...  positive\n",
              "18  [0.0, 0.0, 0.0, 0.0, 0.0, 0.0, 0.0, 0.0, 0.0, ...   neutral\n",
              "19  [0.0, 0.0, 0.0, 0.0, 0.0, 0.0, 0.0, 0.0, 0.0, ...  negative"
            ]
          },
          "execution_count": 179,
          "metadata": {},
          "output_type": "execute_result"
        }
      ],
      "source": [
        "data.head(20)"
      ]
    },
    {
      "cell_type": "markdown",
      "metadata": {
        "id": "aIAxJ0DTim4d"
      },
      "source": [
        "###pie chart for the upsampled data"
      ]
    },
    {
      "cell_type": "code",
      "execution_count": 180,
      "metadata": {
        "colab": {
          "base_uri": "https://localhost:8080/",
          "height": 428
        },
        "id": "V-UMF-QcqYOn",
        "outputId": "a121eb91-aedb-481c-957f-61d43341b58d"
      },
      "outputs": [
        {
          "data": {
            "image/png": "[encoded data removed]",
            "text/plain": [
              "<Figure size 640x480 with 1 Axes>"
            ]
          },
          "metadata": {},
          "output_type": "display_data"
        }
      ],
      "source": [
        "import matplotlib.pyplot as plt\n",
        "\n",
        "# Assuming you have already upsampled your data and stored it in X_resampled and y_resampled\n",
        "\n",
        "# Count the occurrences of each sentiment class in the resampled data\n",
        "positive_count_resampled = (data['Sentiment'] == 'positive').sum()\n",
        "negative_count_resampled = (data['Sentiment']  == 'negative').sum()\n",
        "neutral_count_resampled = (data['Sentiment']  == 'neutral').sum()\n",
        "\n",
        "# Create a pie chart\n",
        "labels = ['Positive', 'Negative', 'Neutral']\n",
        "sizes = [positive_count_resampled, negative_count_resampled, neutral_count_resampled]\n",
        "colors = ['lightgreen', 'lightcoral', 'lightskyblue']\n",
        "explode = (0.1, 0, 0)  # explode the 1st slice (Positive)\n",
        "plt.pie(sizes, explode=explode, labels=labels, colors=colors, autopct='%1.1f%%', shadow=True, startangle=140)\n",
        "plt.axis('equal')  # Equal aspect ratio ensures that pie is drawn as a circle.\n",
        "\n",
        "# Add a title\n",
        "plt.title('Sentiment Distribution in Resampled Data')\n",
        "\n",
        "# Show the plot\n",
        "plt.show()\n"
      ]
    },
    {
      "cell_type": "code",
      "execution_count": 181,
      "metadata": {
        "colab": {
          "base_uri": "https://localhost:8080/",
          "height": 676
        },
        "id": "-paxjXUShfhv",
        "outputId": "bd7d6b39-be71-4f19-cf10-168faf327ef2"
      },
      "outputs": [
        {
          "data": {
            "text/html": [
              "<div>\n",
              "<style scoped>\n",
              "    .dataframe tbody tr th:only-of-type {\n",
              "        vertical-align: middle;\n",
              "    }\n",
              "\n",
              "    .dataframe tbody tr th {\n",
              "        vertical-align: top;\n",
              "    }\n",
              "\n",
              "    .dataframe thead th {\n",
              "        text-align: right;\n",
              "    }\n",
              "</style>\n",
              "<table border=\"1\" class=\"dataframe\">\n",
              "  <thead>\n",
              "    <tr style=\"text-align: right;\">\n",
              "      <th></th>\n",
              "      <th>Text</th>\n",
              "      <th>Sentiment</th>\n",
              "    </tr>\n",
              "  </thead>\n",
              "  <tbody>\n",
              "    <tr>\n",
              "      <th>0</th>\n",
              "      <td>[0.0, 0.0, 0.0, 0.0, 0.0, 0.0, 0.0, 0.0, 0.0, ...</td>\n",
              "      <td>positive</td>\n",
              "    </tr>\n",
              "    <tr>\n",
              "      <th>1</th>\n",
              "      <td>[0.0, 0.0, 0.0, 0.0, 0.0, 0.0, 0.0, 0.0, 0.0, ...</td>\n",
              "      <td>negative</td>\n",
              "    </tr>\n",
              "    <tr>\n",
              "      <th>2</th>\n",
              "      <td>[0.0, 0.0, 0.0, 0.0, 0.0, 0.0, 0.0, 0.0, 0.0, ...</td>\n",
              "      <td>positive</td>\n",
              "    </tr>\n",
              "    <tr>\n",
              "      <th>3</th>\n",
              "      <td>[0.0, 0.0, 0.0, 0.0, 0.0, 0.0, 0.0, 0.0, 0.0, ...</td>\n",
              "      <td>positive</td>\n",
              "    </tr>\n",
              "    <tr>\n",
              "      <th>4</th>\n",
              "      <td>[0.0, 0.0, 0.0, 0.0, 0.0, 0.0, 0.0, 0.0, 0.0, ...</td>\n",
              "      <td>neutral</td>\n",
              "    </tr>\n",
              "    <tr>\n",
              "      <th>5</th>\n",
              "      <td>[0.0, 0.0, 0.0, 0.0, 0.0, 0.0, 0.0, 0.0, 0.0, ...</td>\n",
              "      <td>positive</td>\n",
              "    </tr>\n",
              "    <tr>\n",
              "      <th>6</th>\n",
              "      <td>[0.0, 0.0, 0.0, 0.0, 0.0, 0.0, 0.0, 0.0, 0.0, ...</td>\n",
              "      <td>positive</td>\n",
              "    </tr>\n",
              "    <tr>\n",
              "      <th>7</th>\n",
              "      <td>[0.0, 0.0, 0.0, 0.0, 0.0, 0.0, 0.0, 0.0, 0.0, ...</td>\n",
              "      <td>positive</td>\n",
              "    </tr>\n",
              "    <tr>\n",
              "      <th>8</th>\n",
              "      <td>[0.0, 0.0, 0.0, 0.0, 0.0, 0.0, 0.0, 0.0, 0.0, ...</td>\n",
              "      <td>negative</td>\n",
              "    </tr>\n",
              "    <tr>\n",
              "      <th>9</th>\n",
              "      <td>[0.0, 0.0, 0.0, 0.0, 0.0, 0.0, 0.0, 0.0, 0.0, ...</td>\n",
              "      <td>neutral</td>\n",
              "    </tr>\n",
              "    <tr>\n",
              "      <th>10</th>\n",
              "      <td>[0.0, 0.0, 0.0, 0.0, 0.0, 0.0, 0.0, 0.0, 0.0, ...</td>\n",
              "      <td>positive</td>\n",
              "    </tr>\n",
              "    <tr>\n",
              "      <th>11</th>\n",
              "      <td>[0.0, 0.0, 0.0, 0.0, 0.0, 0.0, 0.0, 0.0, 0.0, ...</td>\n",
              "      <td>negative</td>\n",
              "    </tr>\n",
              "    <tr>\n",
              "      <th>12</th>\n",
              "      <td>[0.0, 0.0, 0.0, 0.0, 0.0, 0.0, 0.0, 0.0, 0.0, ...</td>\n",
              "      <td>positive</td>\n",
              "    </tr>\n",
              "    <tr>\n",
              "      <th>13</th>\n",
              "      <td>[0.0, 0.0, 0.0, 0.0, 0.0, 0.0, 0.0, 0.0, 0.0, ...</td>\n",
              "      <td>positive</td>\n",
              "    </tr>\n",
              "    <tr>\n",
              "      <th>14</th>\n",
              "      <td>[0.0, 0.0, 0.0, 0.0, 0.0, 0.0, 0.0, 0.0, 0.0, ...</td>\n",
              "      <td>neutral</td>\n",
              "    </tr>\n",
              "    <tr>\n",
              "      <th>15</th>\n",
              "      <td>[0.0, 0.0, 0.0, 0.0, 0.0, 0.0, 0.0, 0.0, 0.0, ...</td>\n",
              "      <td>positive</td>\n",
              "    </tr>\n",
              "    <tr>\n",
              "      <th>16</th>\n",
              "      <td>[0.0, 0.0, 0.0, 0.0, 0.0, 0.0, 0.0, 0.0, 0.0, ...</td>\n",
              "      <td>positive</td>\n",
              "    </tr>\n",
              "    <tr>\n",
              "      <th>17</th>\n",
              "      <td>[0.0, 0.0, 0.0, 0.0, 0.0, 0.0, 0.0, 0.0, 0.0, ...</td>\n",
              "      <td>positive</td>\n",
              "    </tr>\n",
              "    <tr>\n",
              "      <th>18</th>\n",
              "      <td>[0.0, 0.0, 0.0, 0.0, 0.0, 0.0, 0.0, 0.0, 0.0, ...</td>\n",
              "      <td>neutral</td>\n",
              "    </tr>\n",
              "    <tr>\n",
              "      <th>19</th>\n",
              "      <td>[0.0, 0.0, 0.0, 0.0, 0.0, 0.0, 0.0, 0.0, 0.0, ...</td>\n",
              "      <td>negative</td>\n",
              "    </tr>\n",
              "  </tbody>\n",
              "</table>\n",
              "</div>"
            ],
            "text/plain": [
              "                                                 Text Sentiment\n",
              "0   [0.0, 0.0, 0.0, 0.0, 0.0, 0.0, 0.0, 0.0, 0.0, ...  positive\n",
              "1   [0.0, 0.0, 0.0, 0.0, 0.0, 0.0, 0.0, 0.0, 0.0, ...  negative\n",
              "2   [0.0, 0.0, 0.0, 0.0, 0.0, 0.0, 0.0, 0.0, 0.0, ...  positive\n",
              "3   [0.0, 0.0, 0.0, 0.0, 0.0, 0.0, 0.0, 0.0, 0.0, ...  positive\n",
              "4   [0.0, 0.0, 0.0, 0.0, 0.0, 0.0, 0.0, 0.0, 0.0, ...   neutral\n",
              "5   [0.0, 0.0, 0.0, 0.0, 0.0, 0.0, 0.0, 0.0, 0.0, ...  positive\n",
              "6   [0.0, 0.0, 0.0, 0.0, 0.0, 0.0, 0.0, 0.0, 0.0, ...  positive\n",
              "7   [0.0, 0.0, 0.0, 0.0, 0.0, 0.0, 0.0, 0.0, 0.0, ...  positive\n",
              "8   [0.0, 0.0, 0.0, 0.0, 0.0, 0.0, 0.0, 0.0, 0.0, ...  negative\n",
              "9   [0.0, 0.0, 0.0, 0.0, 0.0, 0.0, 0.0, 0.0, 0.0, ...   neutral\n",
              "10  [0.0, 0.0, 0.0, 0.0, 0.0, 0.0, 0.0, 0.0, 0.0, ...  positive\n",
              "11  [0.0, 0.0, 0.0, 0.0, 0.0, 0.0, 0.0, 0.0, 0.0, ...  negative\n",
              "12  [0.0, 0.0, 0.0, 0.0, 0.0, 0.0, 0.0, 0.0, 0.0, ...  positive\n",
              "13  [0.0, 0.0, 0.0, 0.0, 0.0, 0.0, 0.0, 0.0, 0.0, ...  positive\n",
              "14  [0.0, 0.0, 0.0, 0.0, 0.0, 0.0, 0.0, 0.0, 0.0, ...   neutral\n",
              "15  [0.0, 0.0, 0.0, 0.0, 0.0, 0.0, 0.0, 0.0, 0.0, ...  positive\n",
              "16  [0.0, 0.0, 0.0, 0.0, 0.0, 0.0, 0.0, 0.0, 0.0, ...  positive\n",
              "17  [0.0, 0.0, 0.0, 0.0, 0.0, 0.0, 0.0, 0.0, 0.0, ...  positive\n",
              "18  [0.0, 0.0, 0.0, 0.0, 0.0, 0.0, 0.0, 0.0, 0.0, ...   neutral\n",
              "19  [0.0, 0.0, 0.0, 0.0, 0.0, 0.0, 0.0, 0.0, 0.0, ...  negative"
            ]
          },
          "execution_count": 181,
          "metadata": {},
          "output_type": "execute_result"
        }
      ],
      "source": [
        "data.head(20)"
      ]
    },
    {
      "cell_type": "markdown",
      "metadata": {
        "id": "P7MimswriyEe"
      },
      "source": [
        "encoding sentiment column"
      ]
    },
    {
      "cell_type": "code",
      "execution_count": 182,
      "metadata": {
        "id": "IVunYSvyi04b"
      },
      "outputs": [],
      "source": [
        "label_encoder = LabelEncoder()\n",
        "data['Sentiment'] = label_encoder.fit_transform(data['Sentiment'])"
      ]
    },
    {
      "cell_type": "code",
      "execution_count": 183,
      "metadata": {
        "colab": {
          "base_uri": "https://localhost:8080/",
          "height": 676
        },
        "id": "Q7myrY0IjbQB",
        "outputId": "155df0a2-d89f-4e47-b467-5c20992d7a1a"
      },
      "outputs": [
        {
          "data": {
            "text/html": [
              "<div>\n",
              "<style scoped>\n",
              "    .dataframe tbody tr th:only-of-type {\n",
              "        vertical-align: middle;\n",
              "    }\n",
              "\n",
              "    .dataframe tbody tr th {\n",
              "        vertical-align: top;\n",
              "    }\n",
              "\n",
              "    .dataframe thead th {\n",
              "        text-align: right;\n",
              "    }\n",
              "</style>\n",
              "<table border=\"1\" class=\"dataframe\">\n",
              "  <thead>\n",
              "    <tr style=\"text-align: right;\">\n",
              "      <th></th>\n",
              "      <th>Text</th>\n",
              "      <th>Sentiment</th>\n",
              "    </tr>\n",
              "  </thead>\n",
              "  <tbody>\n",
              "    <tr>\n",
              "      <th>0</th>\n",
              "      <td>[0.0, 0.0, 0.0, 0.0, 0.0, 0.0, 0.0, 0.0, 0.0, ...</td>\n",
              "      <td>2</td>\n",
              "    </tr>\n",
              "    <tr>\n",
              "      <th>1</th>\n",
              "      <td>[0.0, 0.0, 0.0, 0.0, 0.0, 0.0, 0.0, 0.0, 0.0, ...</td>\n",
              "      <td>0</td>\n",
              "    </tr>\n",
              "    <tr>\n",
              "      <th>2</th>\n",
              "      <td>[0.0, 0.0, 0.0, 0.0, 0.0, 0.0, 0.0, 0.0, 0.0, ...</td>\n",
              "      <td>2</td>\n",
              "    </tr>\n",
              "    <tr>\n",
              "      <th>3</th>\n",
              "      <td>[0.0, 0.0, 0.0, 0.0, 0.0, 0.0, 0.0, 0.0, 0.0, ...</td>\n",
              "      <td>2</td>\n",
              "    </tr>\n",
              "    <tr>\n",
              "      <th>4</th>\n",
              "      <td>[0.0, 0.0, 0.0, 0.0, 0.0, 0.0, 0.0, 0.0, 0.0, ...</td>\n",
              "      <td>1</td>\n",
              "    </tr>\n",
              "    <tr>\n",
              "      <th>5</th>\n",
              "      <td>[0.0, 0.0, 0.0, 0.0, 0.0, 0.0, 0.0, 0.0, 0.0, ...</td>\n",
              "      <td>2</td>\n",
              "    </tr>\n",
              "    <tr>\n",
              "      <th>6</th>\n",
              "      <td>[0.0, 0.0, 0.0, 0.0, 0.0, 0.0, 0.0, 0.0, 0.0, ...</td>\n",
              "      <td>2</td>\n",
              "    </tr>\n",
              "    <tr>\n",
              "      <th>7</th>\n",
              "      <td>[0.0, 0.0, 0.0, 0.0, 0.0, 0.0, 0.0, 0.0, 0.0, ...</td>\n",
              "      <td>2</td>\n",
              "    </tr>\n",
              "    <tr>\n",
              "      <th>8</th>\n",
              "      <td>[0.0, 0.0, 0.0, 0.0, 0.0, 0.0, 0.0, 0.0, 0.0, ...</td>\n",
              "      <td>0</td>\n",
              "    </tr>\n",
              "    <tr>\n",
              "      <th>9</th>\n",
              "      <td>[0.0, 0.0, 0.0, 0.0, 0.0, 0.0, 0.0, 0.0, 0.0, ...</td>\n",
              "      <td>1</td>\n",
              "    </tr>\n",
              "    <tr>\n",
              "      <th>10</th>\n",
              "      <td>[0.0, 0.0, 0.0, 0.0, 0.0, 0.0, 0.0, 0.0, 0.0, ...</td>\n",
              "      <td>2</td>\n",
              "    </tr>\n",
              "    <tr>\n",
              "      <th>11</th>\n",
              "      <td>[0.0, 0.0, 0.0, 0.0, 0.0, 0.0, 0.0, 0.0, 0.0, ...</td>\n",
              "      <td>0</td>\n",
              "    </tr>\n",
              "    <tr>\n",
              "      <th>12</th>\n",
              "      <td>[0.0, 0.0, 0.0, 0.0, 0.0, 0.0, 0.0, 0.0, 0.0, ...</td>\n",
              "      <td>2</td>\n",
              "    </tr>\n",
              "    <tr>\n",
              "      <th>13</th>\n",
              "      <td>[0.0, 0.0, 0.0, 0.0, 0.0, 0.0, 0.0, 0.0, 0.0, ...</td>\n",
              "      <td>2</td>\n",
              "    </tr>\n",
              "    <tr>\n",
              "      <th>14</th>\n",
              "      <td>[0.0, 0.0, 0.0, 0.0, 0.0, 0.0, 0.0, 0.0, 0.0, ...</td>\n",
              "      <td>1</td>\n",
              "    </tr>\n",
              "    <tr>\n",
              "      <th>15</th>\n",
              "      <td>[0.0, 0.0, 0.0, 0.0, 0.0, 0.0, 0.0, 0.0, 0.0, ...</td>\n",
              "      <td>2</td>\n",
              "    </tr>\n",
              "    <tr>\n",
              "      <th>16</th>\n",
              "      <td>[0.0, 0.0, 0.0, 0.0, 0.0, 0.0, 0.0, 0.0, 0.0, ...</td>\n",
              "      <td>2</td>\n",
              "    </tr>\n",
              "    <tr>\n",
              "      <th>17</th>\n",
              "      <td>[0.0, 0.0, 0.0, 0.0, 0.0, 0.0, 0.0, 0.0, 0.0, ...</td>\n",
              "      <td>2</td>\n",
              "    </tr>\n",
              "    <tr>\n",
              "      <th>18</th>\n",
              "      <td>[0.0, 0.0, 0.0, 0.0, 0.0, 0.0, 0.0, 0.0, 0.0, ...</td>\n",
              "      <td>1</td>\n",
              "    </tr>\n",
              "    <tr>\n",
              "      <th>19</th>\n",
              "      <td>[0.0, 0.0, 0.0, 0.0, 0.0, 0.0, 0.0, 0.0, 0.0, ...</td>\n",
              "      <td>0</td>\n",
              "    </tr>\n",
              "  </tbody>\n",
              "</table>\n",
              "</div>"
            ],
            "text/plain": [
              "                                                 Text  Sentiment\n",
              "0   [0.0, 0.0, 0.0, 0.0, 0.0, 0.0, 0.0, 0.0, 0.0, ...          2\n",
              "1   [0.0, 0.0, 0.0, 0.0, 0.0, 0.0, 0.0, 0.0, 0.0, ...          0\n",
              "2   [0.0, 0.0, 0.0, 0.0, 0.0, 0.0, 0.0, 0.0, 0.0, ...          2\n",
              "3   [0.0, 0.0, 0.0, 0.0, 0.0, 0.0, 0.0, 0.0, 0.0, ...          2\n",
              "4   [0.0, 0.0, 0.0, 0.0, 0.0, 0.0, 0.0, 0.0, 0.0, ...          1\n",
              "5   [0.0, 0.0, 0.0, 0.0, 0.0, 0.0, 0.0, 0.0, 0.0, ...          2\n",
              "6   [0.0, 0.0, 0.0, 0.0, 0.0, 0.0, 0.0, 0.0, 0.0, ...          2\n",
              "7   [0.0, 0.0, 0.0, 0.0, 0.0, 0.0, 0.0, 0.0, 0.0, ...          2\n",
              "8   [0.0, 0.0, 0.0, 0.0, 0.0, 0.0, 0.0, 0.0, 0.0, ...          0\n",
              "9   [0.0, 0.0, 0.0, 0.0, 0.0, 0.0, 0.0, 0.0, 0.0, ...          1\n",
              "10  [0.0, 0.0, 0.0, 0.0, 0.0, 0.0, 0.0, 0.0, 0.0, ...          2\n",
              "11  [0.0, 0.0, 0.0, 0.0, 0.0, 0.0, 0.0, 0.0, 0.0, ...          0\n",
              "12  [0.0, 0.0, 0.0, 0.0, 0.0, 0.0, 0.0, 0.0, 0.0, ...          2\n",
              "13  [0.0, 0.0, 0.0, 0.0, 0.0, 0.0, 0.0, 0.0, 0.0, ...          2\n",
              "14  [0.0, 0.0, 0.0, 0.0, 0.0, 0.0, 0.0, 0.0, 0.0, ...          1\n",
              "15  [0.0, 0.0, 0.0, 0.0, 0.0, 0.0, 0.0, 0.0, 0.0, ...          2\n",
              "16  [0.0, 0.0, 0.0, 0.0, 0.0, 0.0, 0.0, 0.0, 0.0, ...          2\n",
              "17  [0.0, 0.0, 0.0, 0.0, 0.0, 0.0, 0.0, 0.0, 0.0, ...          2\n",
              "18  [0.0, 0.0, 0.0, 0.0, 0.0, 0.0, 0.0, 0.0, 0.0, ...          1\n",
              "19  [0.0, 0.0, 0.0, 0.0, 0.0, 0.0, 0.0, 0.0, 0.0, ...          0"
            ]
          },
          "execution_count": 183,
          "metadata": {},
          "output_type": "execute_result"
        }
      ],
      "source": [
        "data.head(20)"
      ]
    },
    {
      "cell_type": "code",
      "execution_count": 184,
      "metadata": {
        "colab": {
          "base_uri": "https://localhost:8080/"
        },
        "id": "WcTxMBbhr7iZ",
        "outputId": "bb393bd7-9a79-4f89-de71-22583684820f"
      },
      "outputs": [
        {
          "name": "stdout",
          "output_type": "stream",
          "text": [
            "<class 'pandas.core.frame.DataFrame'>\n",
            "Index: 1732 entries, 0 to 999\n",
            "Data columns (total 2 columns):\n",
            " #   Column     Non-Null Count  Dtype \n",
            "---  ------     --------------  ----- \n",
            " 0   Text       1732 non-null   object\n",
            " 1   Sentiment  1732 non-null   int32 \n",
            "dtypes: int32(1), object(1)\n",
            "memory usage: 33.8+ KB\n"
          ]
        }
      ],
      "source": [
        "data.info()"
      ]
    },
    {
      "cell_type": "markdown",
      "metadata": {
        "id": "mvCd1WozuhjA"
      },
      "source": [
        "##Modeling and Evaluation"
      ]
    },
    {
      "cell_type": "code",
      "execution_count": 185,
      "metadata": {
        "id": "Amr3ygjXkuX5"
      },
      "outputs": [],
      "source": [
        "x=data['Text']\n",
        "y=data['Sentiment']"
      ]
    },
    {
      "cell_type": "code",
      "execution_count": 186,
      "metadata": {
        "id": "y-Q619v3o8ju"
      },
      "outputs": [],
      "source": [
        "# Split the data into train and test sets\n",
        "x_train, x_test, y_train, y_test = train_test_split(x, y, test_size=0.2, random_state=42)"
      ]
    },
    {
      "cell_type": "code",
      "execution_count": 187,
      "metadata": {
        "colab": {
          "base_uri": "https://localhost:8080/"
        },
        "id": "q7QMOdcBo_Ep",
        "outputId": "1db0aa23-55d3-418c-d3f0-8135dafffd2f"
      },
      "outputs": [
        {
          "name": "stdout",
          "output_type": "stream",
          "text": [
            "(1385,) (347,)\n"
          ]
        }
      ],
      "source": [
        "print(x_train.shape,x_test.shape)"
      ]
    },
    {
      "cell_type": "code",
      "execution_count": 188,
      "metadata": {
        "colab": {
          "base_uri": "https://localhost:8080/"
        },
        "id": "I1xw0GOkp83O",
        "outputId": "446a3700-6ed8-4c5d-fb3f-72470927ee1a"
      },
      "outputs": [
        {
          "name": "stdout",
          "output_type": "stream",
          "text": [
            "(1385,) (347,)\n"
          ]
        }
      ],
      "source": [
        "print(y_train.shape,y_test.shape)"
      ]
    },
    {
      "cell_type": "code",
      "execution_count": 189,
      "metadata": {
        "id": "aMVjzarz5FcL"
      },
      "outputs": [],
      "source": [
        "# Assuming X_train and y_train are Pandas Series objects\n",
        "x_train_array = np.array(x_train.tolist())  # Convert Series to NumPy array\n",
        "x_train_flat = x_train_array.reshape(len(x_train_array), -1)  # Reshape the array"
      ]
    },
    {
      "cell_type": "code",
      "execution_count": 190,
      "metadata": {
        "id": "72brHfmAIW4U"
      },
      "outputs": [],
      "source": [
        "# Assuming X_test and y_test are also Pandas Series objects\n",
        "x_test_array = np.array(x_test.tolist())  # Convert Series to NumPy array\n",
        "x_test_flat = x_test_array.reshape(len(x_test_array), -1)  # Reshape the array"
      ]
    },
    {
      "cell_type": "code",
      "execution_count": 191,
      "metadata": {
        "id": "PaH-s-1uJCiF"
      },
      "outputs": [],
      "source": [
        "# Convert y_train and y_test to NumPy arrays if they're not already\n",
        "y_train_array = np.array(y_train.tolist())\n",
        "y_test_array = np.array(y_test.tolist())"
      ]
    },
    {
      "cell_type": "code",
      "execution_count": 192,
      "metadata": {
        "colab": {
          "base_uri": "https://localhost:8080/"
        },
        "id": "xVtZLtT9uPie",
        "outputId": "0b6b4aac-3c10-4e4e-8032-a44829a37c3c"
      },
      "outputs": [
        {
          "data": {
            "text/plain": [
              "array([[0., 0., 0., ..., 0., 0., 0.],\n",
              "       [0., 0., 0., ..., 0., 0., 0.],\n",
              "       [0., 0., 0., ..., 0., 0., 0.],\n",
              "       ...,\n",
              "       [0., 0., 0., ..., 0., 0., 0.],\n",
              "       [0., 0., 0., ..., 0., 0., 0.],\n",
              "       [0., 0., 0., ..., 0., 0., 0.]])"
            ]
          },
          "execution_count": 192,
          "metadata": {},
          "output_type": "execute_result"
        }
      ],
      "source": [
        "x_train_array"
      ]
    },
    {
      "cell_type": "code",
      "execution_count": 193,
      "metadata": {
        "colab": {
          "base_uri": "https://localhost:8080/"
        },
        "id": "BigzWTZloh5E",
        "outputId": "42c19e4b-d1ca-4da1-83ab-ef303f58f1a4"
      },
      "outputs": [
        {
          "data": {
            "text/plain": [
              "array([[0., 0., 0., ..., 0., 0., 0.],\n",
              "       [0., 0., 0., ..., 0., 0., 0.],\n",
              "       [0., 0., 0., ..., 0., 0., 0.],\n",
              "       ...,\n",
              "       [0., 0., 0., ..., 0., 0., 0.],\n",
              "       [0., 0., 0., ..., 0., 0., 0.],\n",
              "       [0., 0., 0., ..., 0., 0., 0.]])"
            ]
          },
          "execution_count": 193,
          "metadata": {},
          "output_type": "execute_result"
        }
      ],
      "source": [
        "x_test_flat"
      ]
    },
    {
      "cell_type": "code",
      "execution_count": 194,
      "metadata": {
        "colab": {
          "base_uri": "https://localhost:8080/"
        },
        "id": "ZnTzHBziuBa8",
        "outputId": "99b5acc4-362f-4e0e-de09-8159f165908b"
      },
      "outputs": [
        {
          "data": {
            "text/plain": [
              "array([1, 2, 2, 2, 2, 0, 2, 2, 0, 1, 2, 2, 1, 1, 1, 1, 1, 2, 0, 0, 1, 1,\n",
              "       0, 0, 1, 0, 1, 1, 2, 1, 0, 1, 1, 2, 0, 0, 2, 2, 2, 2, 2, 2, 2, 0,\n",
              "       0, 2, 0, 2, 0, 0, 1, 0, 0, 2, 2, 2, 0, 0, 2, 2, 0, 2, 1, 0, 2, 2,\n",
              "       1, 1, 0, 0, 0, 2, 1, 1, 2, 2, 1, 1, 0, 2, 0, 2, 0, 0, 0, 0, 0, 1,\n",
              "       2, 0, 0, 2, 0, 1, 2, 2, 2, 1, 2, 2, 1, 2, 0, 0, 0, 2, 0, 0, 0, 2,\n",
              "       1, 0, 1, 1, 1, 1, 0, 1, 1, 0, 2, 0, 2, 0, 0, 1, 2, 0, 0, 1, 2, 2,\n",
              "       2, 0, 1, 0, 1, 0, 1, 1, 1, 0, 1, 2, 1, 2, 1, 1, 1, 2, 2, 2, 0, 1,\n",
              "       2, 0, 1, 1, 1, 2, 0, 0, 1, 2, 1, 0, 1, 2, 1, 0, 2, 1, 2, 1, 1, 0,\n",
              "       0, 1, 1, 1, 1, 1, 1, 2, 2, 0, 1, 1, 1, 1, 1, 0, 0, 1, 2, 0, 0, 1,\n",
              "       2, 0, 1, 1, 1, 2, 1, 2, 0, 2, 1, 2, 1, 2, 0, 1, 2, 0, 1, 1, 0, 2,\n",
              "       0, 2, 1, 2, 0, 1, 2, 1, 2, 1, 1, 2, 0, 2, 0, 0, 0, 1, 0, 1, 2, 2,\n",
              "       0, 1, 1, 2, 2, 2, 0, 1, 0, 0, 1, 2, 1, 0, 0, 1, 0, 1, 2, 1, 2, 2,\n",
              "       2, 2, 2, 1, 1, 2, 1, 0, 1, 0, 0, 2, 1, 0, 0, 2, 1, 0, 1, 2, 0, 0,\n",
              "       0, 2, 2, 1, 0, 1, 0, 1, 1, 0, 1, 1, 2, 1, 2, 0, 0, 1, 0, 1, 0, 2,\n",
              "       0, 0, 0, 2, 0, 1, 2, 2, 2, 1, 0, 2, 2, 1, 0, 1, 1, 2, 0, 2, 0, 1,\n",
              "       2, 0, 0, 2, 2, 1, 2, 1, 2, 1, 2, 1, 1, 2, 1, 2, 1])"
            ]
          },
          "execution_count": 194,
          "metadata": {},
          "output_type": "execute_result"
        }
      ],
      "source": [
        "y_test_array"
      ]
    },
    {
      "cell_type": "code",
      "execution_count": 195,
      "metadata": {
        "colab": {
          "base_uri": "https://localhost:8080/"
        },
        "id": "kfNJulejuErM",
        "outputId": "bcc9e955-a2bf-46e2-f206-ddb33b49bbbe"
      },
      "outputs": [
        {
          "data": {
            "text/plain": [
              "array([0, 2, 1, ..., 2, 2, 0])"
            ]
          },
          "execution_count": 195,
          "metadata": {},
          "output_type": "execute_result"
        }
      ],
      "source": [
        "y_train_array"
      ]
    },
    {
      "cell_type": "markdown",
      "metadata": {
        "id": "meKKJpe3gnIa"
      },
      "source": [
        "###Logistic Regression"
      ]
    },
    {
      "cell_type": "code",
      "execution_count": 196,
      "metadata": {
        "colab": {
          "base_uri": "https://localhost:8080/"
        },
        "id": "GNwF9RJMYX_1",
        "outputId": "6d766563-ecbe-4db2-f746-a7d9e764a96e"
      },
      "outputs": [
        {
          "name": "stdout",
          "output_type": "stream",
          "text": [
            "Accuracy: 0.9596541786743515\n"
          ]
        }
      ],
      "source": [
        "# Create and train the logistic regression model\n",
        "model = LogisticRegression()\n",
        "model.fit(x_train_flat, y_train_array)\n",
        "y_pred = model.predict(x_test_flat)\n",
        "accuracy = accuracy_score(y_test_array, y_pred)\n",
        "print(\"Accuracy:\", accuracy)"
      ]
    },
    {
      "cell_type": "code",
      "execution_count": 197,
      "metadata": {
        "colab": {
          "base_uri": "https://localhost:8080/"
        },
        "id": "d-3Aac0y25mO",
        "outputId": "5eb4fbef-07b1-4203-ddf5-0c5065ac0b52"
      },
      "outputs": [
        {
          "name": "stdout",
          "output_type": "stream",
          "text": [
            "[[110   0   0]\n",
            " [  0 111  12]\n",
            " [  0   2 112]]\n"
          ]
        }
      ],
      "source": [
        "print(confusion_matrix(y_test_array, y_pred))"
      ]
    },
    {
      "cell_type": "code",
      "execution_count": 198,
      "metadata": {
        "colab": {
          "base_uri": "https://localhost:8080/"
        },
        "id": "94vZLEOY3eQa",
        "outputId": "01e44dc7-ed8a-42b0-d043-1fc1be9522d7"
      },
      "outputs": [
        {
          "name": "stdout",
          "output_type": "stream",
          "text": [
            "              precision    recall  f1-score   support\n",
            "\n",
            "           0       1.00      1.00      1.00       110\n",
            "           1       0.98      0.90      0.94       123\n",
            "           2       0.90      0.98      0.94       114\n",
            "\n",
            "    accuracy                           0.96       347\n",
            "   macro avg       0.96      0.96      0.96       347\n",
            "weighted avg       0.96      0.96      0.96       347\n",
            "\n"
          ]
        }
      ],
      "source": [
        "print(classification_report(y_test_array, y_pred))"
      ]
    },
    {
      "cell_type": "code",
      "execution_count": 199,
      "metadata": {
        "colab": {
          "base_uri": "https://localhost:8080/"
        },
        "id": "q3YPsHXNVu5W",
        "outputId": "e9d9929b-646f-460a-a7f8-812b9a4a5b05"
      },
      "outputs": [
        {
          "name": "stdout",
          "output_type": "stream",
          "text": [
            "0.96\n"
          ]
        }
      ],
      "source": [
        "import joblib\n",
        "\n",
        "file = 'sentiment_model'\n",
        "joblib.dump(model, file)\n",
        "\n",
        "loaded_model = joblib.load(open(file, 'rb'))\n",
        "pred_y = loaded_model.predict(x_test_flat)\n",
        "\n",
        "result = np.round(accuracy_score(y_test_array, y_pred), 2)\n",
        "print(result)\n",
        "\n"
      ]
    },
    {
      "cell_type": "code",
      "execution_count": 200,
      "metadata": {
        "colab": {
          "base_uri": "https://localhost:8080/"
        },
        "id": "G4BDQ2mOts7P",
        "outputId": "0a83f401-eb0e-4860-a756-b28f4c475353"
      },
      "outputs": [
        {
          "name": "stdout",
          "output_type": "stream",
          "text": [
            "0.96\n"
          ]
        }
      ],
      "source": [
        "import pickle\n",
        "\n",
        "file = 'sentiment_model.pkl'\n",
        "\n",
        "pickle.dump(model, open(file, 'wb'))\n",
        "\n",
        "loaded_model = pickle.load(open(file, 'rb'))\n",
        "pred_y = loaded_model.predict(x_test_flat)\n",
        "\n",
        "result = np.round(accuracy_score(y_test_array, y_pred), 2)\n",
        "print(result)"
      ]
    }
  ],
  "metadata": {
    "colab": {
      "provenance": []
    },
    "kernelspec": {
      "display_name": "Python 3",
      "name": "python3"
    },
    "language_info": {
      "codemirror_mode": {
        "name": "ipython",
        "version": 3
      },
      "file_extension": ".py",
      "mimetype": "text/x-python",
      "name": "python",
      "nbconvert_exporter": "python",
      "pygments_lexer": "ipython3",
      "version": "3.10.9"
    }
  },
  "nbformat": 4,
  "nbformat_minor": 0
}
